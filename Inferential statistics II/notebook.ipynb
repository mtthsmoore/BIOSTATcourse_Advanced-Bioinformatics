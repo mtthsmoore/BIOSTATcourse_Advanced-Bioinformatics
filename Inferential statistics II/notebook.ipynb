{
  "nbformat": 4,
  "nbformat_minor": 0,
  "metadata": {
    "kernelspec": {
      "name": "python3",
      "display_name": "Python 3"
    },
    "colab": {
      "name": "notebook.ipynb",
      "provenance": [],
      "toc_visible": true,
      "include_colab_link": true
    }
  },
  "cells": [
    {
      "cell_type": "markdown",
      "metadata": {
        "id": "view-in-github",
        "colab_type": "text"
      },
      "source": [
        "<a href=\"https://colab.research.google.com/github/sdgroeve/D012513A-Specialised-Bio-informatics/blob/master/Inferential%20statistics%20II/notebook.ipynb\" target=\"_parent\"><img src=\"https://colab.research.google.com/assets/colab-badge.svg\" alt=\"Open In Colab\"/></a>"
      ]
    },
    {
      "cell_type": "code",
      "metadata": {
        "id": "W_7NQM5mfjqX"
      },
      "source": [
        "%matplotlib inline\n",
        "import warnings\n",
        "warnings.filterwarnings('ignore')\n",
        "import matplotlib.pyplot as plt\n",
        "import numpy as np\n",
        "np.random.seed(123)\n",
        "import pandas as pd\n",
        "import seaborn as sns\n",
        "sns.set_style(\"whitegrid\", {'axes.grid' : False})"
      ],
      "execution_count": 43,
      "outputs": []
    },
    {
      "cell_type": "markdown",
      "metadata": {
        "id": "iORdkwtEfvv_"
      },
      "source": [
        "# Inferential statistics"
      ]
    },
    {
      "cell_type": "markdown",
      "metadata": {
        "id": "0bvVnHlafp2F"
      },
      "source": [
        "## One-way Analysis Of Variance (ANOVA)"
      ]
    },
    {
      "cell_type": "markdown",
      "metadata": {
        "id": "epsNcmRbfjqa"
      },
      "source": [
        "One-way ANOVA is a statistical method to test the claim that the means of **two or more** samples $x_i$ with sample size $n_i$ ($i=1 \\ldots k$) are equal. The test makes the following assumptions:\n",
        "\n",
        "- the samples are drawn from a normal distribution\n",
        "- the samples are drawn from populations with equal variance\n",
        "- the samples should be drawn independently\n",
        "\n",
        "Again there are two hypothesis:\n",
        "\n",
        "- The null hypothesis $H_0$ states that the means $\\overline{x}_i$ with $i=1 \\ldots k$ are equal.\n",
        "- The alternative hypothesis $H_1$ states that the means $\\overline{x}_i$ with $i=1 \\ldots k$ are not equal.\n",
        "\n",
        "As with the two sample t-test, the ANOVA test can also be formulated as a test to determine whether two or more independent samples with equal variance are drawn from populations having the same normal distribution. \n",
        "\n",
        "One-way ANOVA is a generalization of the two sample t-test (allowing comapre more than two samples). To illustrate this we assume to have access to two gene expression level populations with a difference in mean. We draw one sample with sample size $n=9$ from each population and perform a two sample t-test and a one-way ANOVA test to compute a p-value for the null hypothesis:"
      ]
    },
    {
      "cell_type": "code",
      "metadata": {
        "id": "NbC3g50Rfjqa",
        "outputId": "e80a4c8e-4fb6-427a-8667-fcf6186d3706",
        "colab": {
          "base_uri": "https://localhost:8080/",
          "height": 86
        }
      },
      "source": [
        "import scipy.stats as stats\n",
        "\n",
        "n = 9\n",
        "geneA = np.random.normal(size=n,loc=0.26,scale=0.01)\n",
        "geneB = np.random.normal(size=n,loc=0.28,scale=0.01)\n",
        "print(\"two sample t-test:\")\n",
        "print(stats.ttest_ind(geneA,geneB))\n",
        "print(\"one-way ANOVA:\")\n",
        "print(stats.f_oneway(geneA,geneB))"
      ],
      "execution_count": 44,
      "outputs": [
        {
          "output_type": "stream",
          "text": [
            "two sample t-test:\n",
            "Ttest_indResult(statistic=-4.022327404376181, pvalue=0.0009847119072361069)\n",
            "one-way ANOVA:\n",
            "F_onewayResult(statistic=16.179117747995637, pvalue=0.0009847119072361058)\n"
          ],
          "name": "stdout"
        }
      ]
    },
    {
      "cell_type": "markdown",
      "metadata": {
        "id": "vVY5K3oAfjqc"
      },
      "source": [
        "We can see that the p-values computed by both tests are exactly the same. It is the test statistic that is different. \n",
        "\n",
        "ANOVA computes an **F-statistic** that is simply a ratio of two variances. So, where the two sample t-test T-statistic looks at the difference in mean between two samples, the one-way ANOVA F-statistics looks at the **ratio of two variances**. \n",
        "\n",
        "Conider a typical ANOVA example in which we want to test the effect of a certain treatment on the expression level of a specific gene. There are three types of treatment: \"T1\", \"T2\" and \"T3\". We have four samples. The first sample contains gene expression levels of mice that did not undergo any treatment. The next three samples contain gene expression levels of mice treated with treatment \"T1\", \"T2\" and \"T3\" respectively. We assume each sample has sample size $n_1=n_2=n_3=n_4=12$.\n",
        "\n",
        "We want to test if the means of the four samples are equal (i.e. if there is an effect of any of the treatments or not). \n",
        "\n",
        "The following code creates these samples such that the means of the populations from which the samples are drawn is indeed equal:"
      ]
    },
    {
      "cell_type": "code",
      "metadata": {
        "id": "G24COEjbfjqd"
      },
      "source": [
        "n = 12\n",
        "sample_control  = np.random.normal(size=n,loc=0.26,scale=0.05)\n",
        "sample_T1 = np.random.normal(size=n,loc=0.26,scale=0.05)\n",
        "sample_T2 = np.random.normal(size=n,loc=0.26,scale=0.05)\n",
        "sample_T3 = np.random.normal(size=n,loc=0.26,scale=0.05)"
      ],
      "execution_count": 45,
      "outputs": []
    },
    {
      "cell_type": "markdown",
      "metadata": {
        "id": "1jCwKuDefjqg"
      },
      "source": [
        "In ANOVA we don't talk about samples (even though they are samples) but instead we refer to the difference between the samples as a **factor**. For our dataset we can call \"treatment\" a factor  ((concidering no treatment (control) as a special type of treatment). This factor has four **levels** or **groups**: \"control\", \"T1\", \"T2\" and \"T3\".\n",
        "\n",
        "To make this more clear we create a dataset with two columns: column \"treatment\" (the factor) that sets the type of treatment (the level) of an observation and column \"expression_level\" that contains the measured gene expression level for an observation (the random variable):"
      ]
    },
    {
      "cell_type": "code",
      "metadata": {
        "id": "dJbncJO-fjqg"
      },
      "source": [
        "df = pd.DataFrame()\n",
        "df[\"treatment\"] = [\"control\"]*n + [\"T1\"]*n + [\"T2\"]*n + [\"T3\"]*n\n",
        "df[\"expression_level\"] = np.concatenate((sample_control,sample_T1,sample_T2,sample_T3))"
      ],
      "execution_count": 46,
      "outputs": []
    },
    {
      "cell_type": "markdown",
      "metadata": {
        "id": "tNAtWVNLfjqi"
      },
      "source": [
        "Now our dataset looks like this:"
      ]
    },
    {
      "cell_type": "code",
      "metadata": {
        "id": "9oGWTphmfjqj",
        "outputId": "5ccb5f6c-d767-4294-a912-3eeaa2f4a370",
        "colab": {
          "base_uri": "https://localhost:8080/",
          "height": 1000
        }
      },
      "source": [
        "df"
      ],
      "execution_count": 47,
      "outputs": [
        {
          "output_type": "execute_result",
          "data": {
            "text/html": [
              "<div>\n",
              "<style scoped>\n",
              "    .dataframe tbody tr th:only-of-type {\n",
              "        vertical-align: middle;\n",
              "    }\n",
              "\n",
              "    .dataframe tbody tr th {\n",
              "        vertical-align: top;\n",
              "    }\n",
              "\n",
              "    .dataframe thead th {\n",
              "        text-align: right;\n",
              "    }\n",
              "</style>\n",
              "<table border=\"1\" class=\"dataframe\">\n",
              "  <thead>\n",
              "    <tr style=\"text-align: right;\">\n",
              "      <th></th>\n",
              "      <th>treatment</th>\n",
              "      <th>expression_level</th>\n",
              "    </tr>\n",
              "  </thead>\n",
              "  <tbody>\n",
              "    <tr>\n",
              "      <th>0</th>\n",
              "      <td>control</td>\n",
              "      <td>0.310203</td>\n",
              "    </tr>\n",
              "    <tr>\n",
              "      <th>1</th>\n",
              "      <td>control</td>\n",
              "      <td>0.279309</td>\n",
              "    </tr>\n",
              "    <tr>\n",
              "      <th>2</th>\n",
              "      <td>control</td>\n",
              "      <td>0.296868</td>\n",
              "    </tr>\n",
              "    <tr>\n",
              "      <th>3</th>\n",
              "      <td>control</td>\n",
              "      <td>0.334537</td>\n",
              "    </tr>\n",
              "    <tr>\n",
              "      <th>4</th>\n",
              "      <td>control</td>\n",
              "      <td>0.213208</td>\n",
              "    </tr>\n",
              "    <tr>\n",
              "      <th>5</th>\n",
              "      <td>control</td>\n",
              "      <td>0.318791</td>\n",
              "    </tr>\n",
              "    <tr>\n",
              "      <th>6</th>\n",
              "      <td>control</td>\n",
              "      <td>0.197306</td>\n",
              "    </tr>\n",
              "    <tr>\n",
              "      <th>7</th>\n",
              "      <td>control</td>\n",
              "      <td>0.228112</td>\n",
              "    </tr>\n",
              "    <tr>\n",
              "      <th>8</th>\n",
              "      <td>control</td>\n",
              "      <td>0.305355</td>\n",
              "    </tr>\n",
              "    <tr>\n",
              "      <th>9</th>\n",
              "      <td>control</td>\n",
              "      <td>0.188566</td>\n",
              "    </tr>\n",
              "    <tr>\n",
              "      <th>10</th>\n",
              "      <td>control</td>\n",
              "      <td>0.252997</td>\n",
              "    </tr>\n",
              "    <tr>\n",
              "      <th>11</th>\n",
              "      <td>control</td>\n",
              "      <td>0.216912</td>\n",
              "    </tr>\n",
              "    <tr>\n",
              "      <th>12</th>\n",
              "      <td>T1</td>\n",
              "      <td>0.247219</td>\n",
              "    </tr>\n",
              "    <tr>\n",
              "      <th>13</th>\n",
              "      <td>T1</td>\n",
              "      <td>0.120071</td>\n",
              "    </tr>\n",
              "    <tr>\n",
              "      <th>14</th>\n",
              "      <td>T1</td>\n",
              "      <td>0.171423</td>\n",
              "    </tr>\n",
              "    <tr>\n",
              "      <th>15</th>\n",
              "      <td>T1</td>\n",
              "      <td>0.225006</td>\n",
              "    </tr>\n",
              "    <tr>\n",
              "      <th>16</th>\n",
              "      <td>T1</td>\n",
              "      <td>0.306373</td>\n",
              "    </tr>\n",
              "    <tr>\n",
              "      <th>17</th>\n",
              "      <td>T1</td>\n",
              "      <td>0.251318</td>\n",
              "    </tr>\n",
              "    <tr>\n",
              "      <th>18</th>\n",
              "      <td>T1</td>\n",
              "      <td>0.260142</td>\n",
              "    </tr>\n",
              "    <tr>\n",
              "      <th>19</th>\n",
              "      <td>T1</td>\n",
              "      <td>0.294411</td>\n",
              "    </tr>\n",
              "    <tr>\n",
              "      <th>20</th>\n",
              "      <td>T1</td>\n",
              "      <td>0.216023</td>\n",
              "    </tr>\n",
              "    <tr>\n",
              "      <th>21</th>\n",
              "      <td>T1</td>\n",
              "      <td>0.274181</td>\n",
              "    </tr>\n",
              "    <tr>\n",
              "      <th>22</th>\n",
              "      <td>T1</td>\n",
              "      <td>0.219732</td>\n",
              "    </tr>\n",
              "    <tr>\n",
              "      <th>23</th>\n",
              "      <td>T1</td>\n",
              "      <td>0.173617</td>\n",
              "    </tr>\n",
              "    <tr>\n",
              "      <th>24</th>\n",
              "      <td>T2</td>\n",
              "      <td>0.240455</td>\n",
              "    </tr>\n",
              "    <tr>\n",
              "      <th>25</th>\n",
              "      <td>T2</td>\n",
              "      <td>0.288690</td>\n",
              "    </tr>\n",
              "    <tr>\n",
              "      <th>26</th>\n",
              "      <td>T2</td>\n",
              "      <td>0.276929</td>\n",
              "    </tr>\n",
              "    <tr>\n",
              "      <th>27</th>\n",
              "      <td>T2</td>\n",
              "      <td>0.259408</td>\n",
              "    </tr>\n",
              "    <tr>\n",
              "      <th>28</th>\n",
              "      <td>T2</td>\n",
              "      <td>0.379618</td>\n",
              "    </tr>\n",
              "    <tr>\n",
              "      <th>29</th>\n",
              "      <td>T2</td>\n",
              "      <td>0.280646</td>\n",
              "    </tr>\n",
              "    <tr>\n",
              "      <th>30</th>\n",
              "      <td>T2</td>\n",
              "      <td>0.308937</td>\n",
              "    </tr>\n",
              "    <tr>\n",
              "      <th>31</th>\n",
              "      <td>T2</td>\n",
              "      <td>0.371907</td>\n",
              "    </tr>\n",
              "    <tr>\n",
              "      <th>32</th>\n",
              "      <td>T2</td>\n",
              "      <td>0.195296</td>\n",
              "    </tr>\n",
              "    <tr>\n",
              "      <th>33</th>\n",
              "      <td>T2</td>\n",
              "      <td>0.208061</td>\n",
              "    </tr>\n",
              "    <tr>\n",
              "      <th>34</th>\n",
              "      <td>T2</td>\n",
              "      <td>0.347186</td>\n",
              "    </tr>\n",
              "    <tr>\n",
              "      <th>35</th>\n",
              "      <td>T2</td>\n",
              "      <td>0.220097</td>\n",
              "    </tr>\n",
              "    <tr>\n",
              "      <th>36</th>\n",
              "      <td>T3</td>\n",
              "      <td>0.261484</td>\n",
              "    </tr>\n",
              "    <tr>\n",
              "      <th>37</th>\n",
              "      <td>T3</td>\n",
              "      <td>0.313466</td>\n",
              "    </tr>\n",
              "    <tr>\n",
              "      <th>38</th>\n",
              "      <td>T3</td>\n",
              "      <td>0.304535</td>\n",
              "    </tr>\n",
              "    <tr>\n",
              "      <th>39</th>\n",
              "      <td>T3</td>\n",
              "      <td>0.347744</td>\n",
              "    </tr>\n",
              "    <tr>\n",
              "      <th>40</th>\n",
              "      <td>T3</td>\n",
              "      <td>0.334782</td>\n",
              "    </tr>\n",
              "    <tr>\n",
              "      <th>41</th>\n",
              "      <td>T3</td>\n",
              "      <td>0.313470</td>\n",
              "    </tr>\n",
              "    <tr>\n",
              "      <th>42</th>\n",
              "      <td>T3</td>\n",
              "      <td>0.221365</td>\n",
              "    </tr>\n",
              "    <tr>\n",
              "      <th>43</th>\n",
              "      <td>T3</td>\n",
              "      <td>0.299743</td>\n",
              "    </tr>\n",
              "    <tr>\n",
              "      <th>44</th>\n",
              "      <td>T3</td>\n",
              "      <td>0.275714</td>\n",
              "    </tr>\n",
              "    <tr>\n",
              "      <th>45</th>\n",
              "      <td>T3</td>\n",
              "      <td>0.193687</td>\n",
              "    </tr>\n",
              "    <tr>\n",
              "      <th>46</th>\n",
              "      <td>T3</td>\n",
              "      <td>0.330865</td>\n",
              "    </tr>\n",
              "    <tr>\n",
              "      <th>47</th>\n",
              "      <td>T3</td>\n",
              "      <td>0.300362</td>\n",
              "    </tr>\n",
              "  </tbody>\n",
              "</table>\n",
              "</div>"
            ],
            "text/plain": [
              "   treatment  expression_level\n",
              "0    control          0.310203\n",
              "1    control          0.279309\n",
              "2    control          0.296868\n",
              "3    control          0.334537\n",
              "4    control          0.213208\n",
              "5    control          0.318791\n",
              "6    control          0.197306\n",
              "7    control          0.228112\n",
              "8    control          0.305355\n",
              "9    control          0.188566\n",
              "10   control          0.252997\n",
              "11   control          0.216912\n",
              "12        T1          0.247219\n",
              "13        T1          0.120071\n",
              "14        T1          0.171423\n",
              "15        T1          0.225006\n",
              "16        T1          0.306373\n",
              "17        T1          0.251318\n",
              "18        T1          0.260142\n",
              "19        T1          0.294411\n",
              "20        T1          0.216023\n",
              "21        T1          0.274181\n",
              "22        T1          0.219732\n",
              "23        T1          0.173617\n",
              "24        T2          0.240455\n",
              "25        T2          0.288690\n",
              "26        T2          0.276929\n",
              "27        T2          0.259408\n",
              "28        T2          0.379618\n",
              "29        T2          0.280646\n",
              "30        T2          0.308937\n",
              "31        T2          0.371907\n",
              "32        T2          0.195296\n",
              "33        T2          0.208061\n",
              "34        T2          0.347186\n",
              "35        T2          0.220097\n",
              "36        T3          0.261484\n",
              "37        T3          0.313466\n",
              "38        T3          0.304535\n",
              "39        T3          0.347744\n",
              "40        T3          0.334782\n",
              "41        T3          0.313470\n",
              "42        T3          0.221365\n",
              "43        T3          0.299743\n",
              "44        T3          0.275714\n",
              "45        T3          0.193687\n",
              "46        T3          0.330865\n",
              "47        T3          0.300362"
            ]
          },
          "metadata": {
            "tags": []
          },
          "execution_count": 47
        }
      ]
    },
    {
      "cell_type": "markdown",
      "metadata": {
        "id": "yghkuFkPfjqo"
      },
      "source": [
        "To gain insight into the dataset we plot a boxplot for the total gene expression level and then we create four boxplots for the gene expression level in each of the four levels of the factor \"treatment\":"
      ]
    },
    {
      "cell_type": "code",
      "metadata": {
        "id": "lJ1Vs3NEfjqo",
        "outputId": "89a4846c-0642-47ee-c564-446fd50edd86",
        "colab": {
          "base_uri": "https://localhost:8080/",
          "height": 497
        }
      },
      "source": [
        "plt.figure(figsize=(16,8))\n",
        "plt.subplot(1,2,1)\n",
        "ax = sns.boxplot(y=\"expression_level\",data=df,showmeans=True)\n",
        "ax.set_xlabel(\"total\")\n",
        "plt.subplot(1,2,2)\n",
        "sns.boxplot(x=\"treatment\",y=\"expression_level\",data=df,showmeans=True)\n",
        "plt.show()"
      ],
      "execution_count": 48,
      "outputs": [
        {
          "output_type": "display_data",
          "data": {
            "image/png": "[encoded data removed]",
            "text/plain": [
              "<Figure size 1152x576 with 2 Axes>"
            ]
          },
          "metadata": {
            "tags": []
          }
        }
      ]
    },
    {
      "cell_type": "markdown",
      "metadata": {
        "id": "dtAW-8oLfjqr"
      },
      "source": [
        "The mean for each distribution is indicated by the green triangle. We see that these sample means differ. But again, is this difference significant? We drew the samples from the same population so we know that it is not.\n",
        "\n",
        "Let's take a look at the F-statistic for one-way ANOVA. The first variance in the statistic is the variation between the $k=4$ sample means $\\overline{x}_i$. This variation is also known as the \"**between group variation**\" or as the \"**explained variance**\" as it is the variance in the gene expression that is caused (or can be explained) by the treatment. The variance is computed as what is known as the **treatment sum of squares**:\n",
        "\n",
        "$$SST=\\sum_{i=1}^{k}{n_i(\\overline{x}_i - \\overline{x}_{total})^2},$$\n",
        "\n",
        "where $\\overline{x}_i$ is the mean of the observations in level $i$ and $\\overline{x}_{total}$ is the mean of all observations in the dataset. \n",
        "\n",
        "The code below computes the SST for our four samples:"
      ]
    },
    {
      "cell_type": "code",
      "metadata": {
        "id": "FiWmJGRbfjqr",
        "outputId": "33908a8c-10a0-4e70-ec3e-02320fb7d585",
        "colab": {
          "base_uri": "https://localhost:8080/",
          "height": 34
        }
      },
      "source": [
        "def compute_SST(control,T1,T2,T3):\n",
        "    mean_total = np.mean(np.concatenate((control,T1,T2,T3)))    \n",
        "    mean_control = np.mean(control)\n",
        "    mean_T1 = np.mean(T1)\n",
        "    mean_T2 = np.mean(T2)\n",
        "    mean_T3 = np.mean(T3)    \n",
        "    SST = len(control)*(mean_control-mean_total)**2\n",
        "    SST += len(T1)*(mean_T1-mean_total)**2\n",
        "    SST += len(T2)*(mean_T2-mean_total)**2\n",
        "    SST += len(T3)*(mean_T3-mean_total)**2\n",
        "    return SST\n",
        "\n",
        "SST = compute_SST(sample_control,sample_T1,sample_T2,sample_T3)\n",
        "print(\"SST = %f\" % SST)"
      ],
      "execution_count": 49,
      "outputs": [
        {
          "output_type": "stream",
          "text": [
            "SST = 0.026415\n"
          ],
          "name": "stdout"
        }
      ]
    },
    {
      "cell_type": "markdown",
      "metadata": {
        "id": "Xr7eLeKNfjqt"
      },
      "source": [
        "The second variance in the F-statistic is the variation within the samples, also known as the \"**within group variation**\" or \"**unexplained variance**\". This is computed as the **sum of squares of the error**:\n",
        "\n",
        "$$SSE=\\sum_{i=1}^{k}{\\sum_{j=1}^{n_i}{(x_{ij} - \\overline{x}_i)^2}},$$\n",
        "\n",
        "where $x_{ij}$ id the $j$th observation in sample $i$. \n",
        "\n",
        "The following code computes the SSE:"
      ]
    },
    {
      "cell_type": "code",
      "metadata": {
        "id": "1Xqrj-UPfjqu",
        "outputId": "0b24e337-6eed-4b13-c8f5-5b34461aa621",
        "colab": {
          "base_uri": "https://localhost:8080/",
          "height": 34
        }
      },
      "source": [
        "def compute_SSE(control,T1,T2,T3):\n",
        "    mean_control = np.mean(control)\n",
        "    mean_T1 = np.mean(T1)\n",
        "    mean_T2 = np.mean(T2)\n",
        "    mean_T3 = np.mean(T3)    \n",
        "    SSE = np.sum([(y-mean_control)**2 for y in control])\n",
        "    SSE += np.sum([(y-mean_T1)**2 for y in T1])\n",
        "    SSE += np.sum([(y-mean_T2)**2 for y in T2])\n",
        "    SSE += np.sum([(y-mean_T3)**2 for y in T3])    \n",
        "    return SSE\n",
        "    \n",
        "SSE = compute_SSE(sample_control,sample_T1,sample_T2,sample_T3)        \n",
        "print(\"SSE = %f\" % SSE)"
      ],
      "execution_count": 50,
      "outputs": [
        {
          "output_type": "stream",
          "text": [
            "SSE = 0.127253\n"
          ],
          "name": "stdout"
        }
      ]
    },
    {
      "cell_type": "markdown",
      "metadata": {
        "id": "809eekSMfjqw"
      },
      "source": [
        "What is important to realize is that we have just partioned the total variance of the expression levels in our dataset into two parts: one part SST caused by the treatment and one part SSE caused by an unknown source.\n",
        "\n",
        "We can check this. The variance of the expression level in the dataset (not taking treatment into account) is computed by the **total sum of squares**:\n",
        "\n",
        "$$TSS=\\sum_{i=1}^{k}{\\sum_{j=1}^{n_i}{(x_{ij} - \\overline{x}_{total})^2}}.$$\n",
        "\n",
        "The following code computes the TTS:"
      ]
    },
    {
      "cell_type": "code",
      "metadata": {
        "id": "DKYp0lsvfjqx",
        "outputId": "087936f4-8c13-4360-978e-db84b3d32713",
        "colab": {
          "base_uri": "https://localhost:8080/",
          "height": 34
        }
      },
      "source": [
        "def compute_TSS(control,T1,T2,T3):\n",
        "    mean_total = np.mean(np.concatenate((control,T1,T2,T3)))    \n",
        "    TSS = np.sum([(y-mean_total)**2 for y in control])\n",
        "    TSS += np.sum([(y-mean_total)**2 for y in T1])\n",
        "    TSS += np.sum([(y-mean_total)**2 for y in T2])\n",
        "    TSS += np.sum([(y-mean_total)**2 for y in T3])\n",
        "    return TSS\n",
        "    \n",
        "TSS = compute_TSS(sample_control,sample_T1,sample_T2,sample_T3)        \n",
        "print(\"TSS = %f\" % TSS)"
      ],
      "execution_count": 51,
      "outputs": [
        {
          "output_type": "stream",
          "text": [
            "TSS = 0.153668\n"
          ],
          "name": "stdout"
        }
      ]
    },
    {
      "cell_type": "markdown",
      "metadata": {
        "id": "QRRGdu4Ufjqz"
      },
      "source": [
        "We now have that TSS = SST + SSE:"
      ]
    },
    {
      "cell_type": "code",
      "metadata": {
        "id": "o5ld36akfjqz",
        "outputId": "28fdd088-463f-4974-cc04-41d6ddb56448",
        "colab": {
          "base_uri": "https://localhost:8080/",
          "height": 34
        }
      },
      "source": [
        "print(SST + SSE)"
      ],
      "execution_count": 52,
      "outputs": [
        {
          "output_type": "stream",
          "text": [
            "0.1536676733581287\n"
          ],
          "name": "stdout"
        }
      ]
    },
    {
      "cell_type": "markdown",
      "metadata": {
        "id": "QEXIs2Rkfjq1"
      },
      "source": [
        "The F-statistic computed by ANOVA is the ratio of SST and SSE (with some variance normalization as we have seen before):\n",
        "\n",
        "$$F=\\frac{SST/(k-1)}{SSE/(n_t-k)},$$\n",
        "\n",
        "where $n_t$ is total number of observations in the dataset. The F-statistic increases as the SST increases and/or as the SSE decreases. To state this differently: the F-statistic increases as the explained variance gets larger than the unexplained variance. Note that a larger explained variance means a larger effect of the factor on the total variance in the dataset (TSS), i.e. a larger difference between the means of the factor levels.\n",
        "\n",
        "If the null hypothesis is true then the F-statistic follows an F-distribution with $df_1=k-1$ and $df_2=n_t-k$ degrees of freedom. For our dataset the F-statistic is:"
      ]
    },
    {
      "cell_type": "code",
      "metadata": {
        "id": "vouuUVqFfjq2",
        "outputId": "72aa4578-7e45-45fd-e288-d935c3009233",
        "colab": {
          "base_uri": "https://localhost:8080/",
          "height": 34
        }
      },
      "source": [
        "k = 4\n",
        "N = k*n\n",
        "\n",
        "F = (SST/(k-1))/(SSE/(N-k))\n",
        "print(F)"
      ],
      "execution_count": 53,
      "outputs": [
        {
          "output_type": "stream",
          "text": [
            "3.044447041511948\n"
          ],
          "name": "stdout"
        }
      ]
    },
    {
      "cell_type": "markdown",
      "metadata": {
        "id": "Z6Vx-6RCfjq3"
      },
      "source": [
        "The Python function to perform one-way ANOVA shows that this is indeed  the correct value and also computes the p-value for the F-statistic:"
      ]
    },
    {
      "cell_type": "code",
      "metadata": {
        "id": "pOKisV51fjq4",
        "outputId": "4c97ea96-6ccf-4a92-b1a5-2c00b103f793",
        "colab": {
          "base_uri": "https://localhost:8080/",
          "height": 34
        }
      },
      "source": [
        "stats.f_oneway(sample_control,sample_T1,sample_T2,sample_T3)"
      ],
      "execution_count": 54,
      "outputs": [
        {
          "output_type": "execute_result",
          "data": {
            "text/plain": [
              "F_onewayResult(statistic=3.0444470415119484, pvalue=0.038585624262123905)"
            ]
          },
          "metadata": {
            "tags": []
          },
          "execution_count": 54
        }
      ]
    },
    {
      "cell_type": "markdown",
      "metadata": {
        "id": "M9wKzMTgfjq6"
      },
      "source": [
        "There is another Python function for ANOVA that provides more details on the SST and the SSE:"
      ]
    },
    {
      "cell_type": "code",
      "metadata": {
        "id": "b0r0EsZ_fjq6",
        "outputId": "cbba64af-8ee3-4f8a-a1c4-623ab710cd40",
        "colab": {
          "base_uri": "https://localhost:8080/",
          "height": 110
        }
      },
      "source": [
        "import statsmodels.api as sm\n",
        "from statsmodels.formula.api import ols\n",
        " \n",
        "mod = ols('expression_level ~ treatment',\n",
        "                data=df).fit()\n",
        "                \n",
        "aov_table = sm.stats.anova_lm(mod, typ=2)\n",
        "aov_table"
      ],
      "execution_count": 55,
      "outputs": [
        {
          "output_type": "execute_result",
          "data": {
            "text/html": [
              "<div>\n",
              "<style scoped>\n",
              "    .dataframe tbody tr th:only-of-type {\n",
              "        vertical-align: middle;\n",
              "    }\n",
              "\n",
              "    .dataframe tbody tr th {\n",
              "        vertical-align: top;\n",
              "    }\n",
              "\n",
              "    .dataframe thead th {\n",
              "        text-align: right;\n",
              "    }\n",
              "</style>\n",
              "<table border=\"1\" class=\"dataframe\">\n",
              "  <thead>\n",
              "    <tr style=\"text-align: right;\">\n",
              "      <th></th>\n",
              "      <th>sum_sq</th>\n",
              "      <th>df</th>\n",
              "      <th>F</th>\n",
              "      <th>PR(&gt;F)</th>\n",
              "    </tr>\n",
              "  </thead>\n",
              "  <tbody>\n",
              "    <tr>\n",
              "      <th>treatment</th>\n",
              "      <td>0.026415</td>\n",
              "      <td>3.0</td>\n",
              "      <td>3.044447</td>\n",
              "      <td>0.038586</td>\n",
              "    </tr>\n",
              "    <tr>\n",
              "      <th>Residual</th>\n",
              "      <td>0.127253</td>\n",
              "      <td>44.0</td>\n",
              "      <td>NaN</td>\n",
              "      <td>NaN</td>\n",
              "    </tr>\n",
              "  </tbody>\n",
              "</table>\n",
              "</div>"
            ],
            "text/plain": [
              "             sum_sq    df         F    PR(>F)\n",
              "treatment  0.026415   3.0  3.044447  0.038586\n",
              "Residual   0.127253  44.0       NaN       NaN"
            ]
          },
          "metadata": {
            "tags": []
          },
          "execution_count": 55
        }
      ]
    },
    {
      "cell_type": "markdown",
      "metadata": {
        "id": "t9Qlh-usfjq8"
      },
      "source": [
        "The column \"sum_sq\" shows the sum of squares SST in row \"treatment\" and SSE in row \"Residual\" (the unexplained variance is sometimes also refered to as the **residuals**). The column \"df\" shows the degrees of freedom for each variance and the column \"F\" shows the F-statistic. Finally the last column shows the p-value for the factor \"treatment\". We can see that the values for SST and SSE are the same as what we computed above.\n",
        "\n",
        "Consider the example above with treatment T2 showing an increased gene expression level:"
      ]
    },
    {
      "cell_type": "code",
      "metadata": {
        "id": "sAlZRm9Afjq8",
        "outputId": "8ed4eb85-4632-4878-d798-ef03f9075b89",
        "colab": {
          "base_uri": "https://localhost:8080/",
          "height": 497
        }
      },
      "source": [
        "n = 12\n",
        "sample_control  = np.random.normal(size=n,loc=0.26,scale=0.01)\n",
        "sample_T1 = np.random.normal(size=n,loc=0.26,scale=0.01)\n",
        "sample_T2 = np.random.normal(size=n,loc=0.27,scale=0.01)\n",
        "sample_T3 = np.random.normal(size=n,loc=0.26,scale=0.01)\n",
        "df = pd.DataFrame()\n",
        "df[\"treatment\"] = [\"control\"]*n + [\"T1\"]*n + [\"T2\"]*n + [\"T3\"]*n\n",
        "df[\"expression_level\"] = np.concatenate((sample_control,sample_T1,sample_T2,sample_T3))\n",
        "plt.figure(figsize=(16,8))\n",
        "plt.subplot(1,2,1)\n",
        "ax = sns.boxplot(y=\"expression_level\",data=df,showmeans=True)\n",
        "ax.set_xlabel(\"total\")\n",
        "plt.subplot(1,2,2)\n",
        "sns.boxplot(x=\"treatment\",y=\"expression_level\",data=df,showmeans=True)\n",
        "plt.show()"
      ],
      "execution_count": 56,
      "outputs": [
        {
          "output_type": "display_data",
          "data": {
            "image/png": "[encoded data removed]",
            "text/plain": [
              "<Figure size 1152x576 with 2 Axes>"
            ]
          },
          "metadata": {
            "tags": []
          }
        }
      ]
    },
    {
      "cell_type": "markdown",
      "metadata": {
        "id": "n3W4EFtpfjq_"
      },
      "source": [
        "If we now perform ANOVA we see that the p-value for treatment is very small and we reject the null hypothesis for $\\alpha=0.01$:"
      ]
    },
    {
      "cell_type": "code",
      "metadata": {
        "id": "D8EmPZ3Vfjq_",
        "outputId": "cd8de742-4403-479e-d5f2-9da53d4f7579",
        "colab": {
          "base_uri": "https://localhost:8080/",
          "height": 110
        }
      },
      "source": [
        "mod = ols('expression_level ~ treatment',\n",
        "                data=df).fit()\n",
        "                \n",
        "aov_table = sm.stats.anova_lm(mod, typ=2)\n",
        "aov_table"
      ],
      "execution_count": 57,
      "outputs": [
        {
          "output_type": "execute_result",
          "data": {
            "text/html": [
              "<div>\n",
              "<style scoped>\n",
              "    .dataframe tbody tr th:only-of-type {\n",
              "        vertical-align: middle;\n",
              "    }\n",
              "\n",
              "    .dataframe tbody tr th {\n",
              "        vertical-align: top;\n",
              "    }\n",
              "\n",
              "    .dataframe thead th {\n",
              "        text-align: right;\n",
              "    }\n",
              "</style>\n",
              "<table border=\"1\" class=\"dataframe\">\n",
              "  <thead>\n",
              "    <tr style=\"text-align: right;\">\n",
              "      <th></th>\n",
              "      <th>sum_sq</th>\n",
              "      <th>df</th>\n",
              "      <th>F</th>\n",
              "      <th>PR(&gt;F)</th>\n",
              "    </tr>\n",
              "  </thead>\n",
              "  <tbody>\n",
              "    <tr>\n",
              "      <th>treatment</th>\n",
              "      <td>0.000830</td>\n",
              "      <td>3.0</td>\n",
              "      <td>2.206083</td>\n",
              "      <td>0.100765</td>\n",
              "    </tr>\n",
              "    <tr>\n",
              "      <th>Residual</th>\n",
              "      <td>0.005519</td>\n",
              "      <td>44.0</td>\n",
              "      <td>NaN</td>\n",
              "      <td>NaN</td>\n",
              "    </tr>\n",
              "  </tbody>\n",
              "</table>\n",
              "</div>"
            ],
            "text/plain": [
              "             sum_sq    df         F    PR(>F)\n",
              "treatment  0.000830   3.0  2.206083  0.100765\n",
              "Residual   0.005519  44.0       NaN       NaN"
            ]
          },
          "metadata": {
            "tags": []
          },
          "execution_count": 57
        }
      ]
    },
    {
      "cell_type": "markdown",
      "metadata": {
        "id": "BCm6zz6pjNbz"
      },
      "source": [
        "The ANOVA says that the means of the four samples are not equal. But we do not know which mean(s) differ(s). Other statistical tests such as the least significant difference test can gain more insight into which level(s) differ(s). This test is only used when the null hypothesis is rejected as a result of your hypothesis test results.\n",
        "\n",
        "Also, we could perform several pair-wise two sample t-tests. Then why perform one-way ANOVA if we can just do all pair-wise two-sample comparisons? The answer lies again in the power of the test. An ANOVA analysis is more likely to correctly reject the null hypothesis than any of the more specific pair-wise t-test, i.e. ANOVA has higher power."
      ]
    },
    {
      "cell_type": "markdown",
      "metadata": {
        "id": "TIcOWaDAjQJB"
      },
      "source": [
        "## Two-way ANOVA"
      ]
    },
    {
      "cell_type": "markdown",
      "metadata": {
        "id": "swebq0PbfjrC"
      },
      "source": [
        "In our gene expression dataset we called the treatment a factor. A factor has two or more levels. In our dataset there are $k_t=4$ levels: \"control\", \"T1\", \"T2\" and \"T3\". In two-way ANOVA there are **two factors**, each with two or more levels.\n",
        "\n",
        "Let's add another factor to our dataset. Suppose we take the sex of a model mouse into account. We add (randomly) a second factor \"sex\" to the dataset with $k_s=2$ levels: \"female\" and \"male\":"
      ]
    },
    {
      "cell_type": "code",
      "metadata": {
        "id": "cis7LXB7fjrC"
      },
      "source": [
        "df[\"sex\"] = [\"female\" if x%2==0 else \"male\" for x in range(k*n)]\n",
        "df = df[[\"treatment\",\"sex\",\"expression_level\"]].sort_values([\"treatment\",\"sex\"])"
      ],
      "execution_count": 58,
      "outputs": []
    },
    {
      "cell_type": "markdown",
      "metadata": {
        "id": "Uo3oYAhFfjrE"
      },
      "source": [
        "This is what this dataset looks like:"
      ]
    },
    {
      "cell_type": "code",
      "metadata": {
        "id": "jozwtBW2fjrE",
        "outputId": "3c39e525-518c-4d56-9b1c-e87edb68c2b0",
        "colab": {
          "base_uri": "https://localhost:8080/",
          "height": 1000
        }
      },
      "source": [
        "df"
      ],
      "execution_count": 59,
      "outputs": [
        {
          "output_type": "execute_result",
          "data": {
            "text/html": [
              "<div>\n",
              "<style scoped>\n",
              "    .dataframe tbody tr th:only-of-type {\n",
              "        vertical-align: middle;\n",
              "    }\n",
              "\n",
              "    .dataframe tbody tr th {\n",
              "        vertical-align: top;\n",
              "    }\n",
              "\n",
              "    .dataframe thead th {\n",
              "        text-align: right;\n",
              "    }\n",
              "</style>\n",
              "<table border=\"1\" class=\"dataframe\">\n",
              "  <thead>\n",
              "    <tr style=\"text-align: right;\">\n",
              "      <th></th>\n",
              "      <th>treatment</th>\n",
              "      <th>sex</th>\n",
              "      <th>expression_level</th>\n",
              "    </tr>\n",
              "  </thead>\n",
              "  <tbody>\n",
              "    <tr>\n",
              "      <th>12</th>\n",
              "      <td>T1</td>\n",
              "      <td>female</td>\n",
              "      <td>0.251625</td>\n",
              "    </tr>\n",
              "    <tr>\n",
              "      <th>14</th>\n",
              "      <td>T1</td>\n",
              "      <td>female</td>\n",
              "      <td>0.272552</td>\n",
              "    </tr>\n",
              "    <tr>\n",
              "      <th>16</th>\n",
              "      <td>T1</td>\n",
              "      <td>female</td>\n",
              "      <td>0.276610</td>\n",
              "    </tr>\n",
              "    <tr>\n",
              "      <th>18</th>\n",
              "      <td>T1</td>\n",
              "      <td>female</td>\n",
              "      <td>0.256852</td>\n",
              "    </tr>\n",
              "    <tr>\n",
              "      <th>20</th>\n",
              "      <td>T1</td>\n",
              "      <td>female</td>\n",
              "      <td>0.252675</td>\n",
              "    </tr>\n",
              "    <tr>\n",
              "      <th>22</th>\n",
              "      <td>T1</td>\n",
              "      <td>female</td>\n",
              "      <td>0.280871</td>\n",
              "    </tr>\n",
              "    <tr>\n",
              "      <th>13</th>\n",
              "      <td>T1</td>\n",
              "      <td>male</td>\n",
              "      <td>0.243940</td>\n",
              "    </tr>\n",
              "    <tr>\n",
              "      <th>15</th>\n",
              "      <td>T1</td>\n",
              "      <td>male</td>\n",
              "      <td>0.253111</td>\n",
              "    </tr>\n",
              "    <tr>\n",
              "      <th>17</th>\n",
              "      <td>T1</td>\n",
              "      <td>male</td>\n",
              "      <td>0.268073</td>\n",
              "    </tr>\n",
              "    <tr>\n",
              "      <th>19</th>\n",
              "      <td>T1</td>\n",
              "      <td>male</td>\n",
              "      <td>0.249141</td>\n",
              "    </tr>\n",
              "    <tr>\n",
              "      <th>21</th>\n",
              "      <td>T1</td>\n",
              "      <td>male</td>\n",
              "      <td>0.247875</td>\n",
              "    </tr>\n",
              "    <tr>\n",
              "      <th>23</th>\n",
              "      <td>T1</td>\n",
              "      <td>male</td>\n",
              "      <td>0.261644</td>\n",
              "    </tr>\n",
              "    <tr>\n",
              "      <th>24</th>\n",
              "      <td>T2</td>\n",
              "      <td>female</td>\n",
              "      <td>0.281502</td>\n",
              "    </tr>\n",
              "    <tr>\n",
              "      <th>26</th>\n",
              "      <td>T2</td>\n",
              "      <td>female</td>\n",
              "      <td>0.271810</td>\n",
              "    </tr>\n",
              "    <tr>\n",
              "      <th>28</th>\n",
              "      <td>T2</td>\n",
              "      <td>female</td>\n",
              "      <td>0.266650</td>\n",
              "    </tr>\n",
              "    <tr>\n",
              "      <th>30</th>\n",
              "      <td>T2</td>\n",
              "      <td>female</td>\n",
              "      <td>0.259154</td>\n",
              "    </tr>\n",
              "    <tr>\n",
              "      <th>32</th>\n",
              "      <td>T2</td>\n",
              "      <td>female</td>\n",
              "      <td>0.273794</td>\n",
              "    </tr>\n",
              "    <tr>\n",
              "      <th>34</th>\n",
              "      <td>T2</td>\n",
              "      <td>female</td>\n",
              "      <td>0.276421</td>\n",
              "    </tr>\n",
              "    <tr>\n",
              "      <th>25</th>\n",
              "      <td>T2</td>\n",
              "      <td>male</td>\n",
              "      <td>0.257326</td>\n",
              "    </tr>\n",
              "    <tr>\n",
              "      <th>27</th>\n",
              "      <td>T2</td>\n",
              "      <td>male</td>\n",
              "      <td>0.281779</td>\n",
              "    </tr>\n",
              "    <tr>\n",
              "      <th>29</th>\n",
              "      <td>T2</td>\n",
              "      <td>male</td>\n",
              "      <td>0.280311</td>\n",
              "    </tr>\n",
              "    <tr>\n",
              "      <th>31</th>\n",
              "      <td>T2</td>\n",
              "      <td>male</td>\n",
              "      <td>0.256365</td>\n",
              "    </tr>\n",
              "    <tr>\n",
              "      <th>33</th>\n",
              "      <td>T2</td>\n",
              "      <td>male</td>\n",
              "      <td>0.266208</td>\n",
              "    </tr>\n",
              "    <tr>\n",
              "      <th>35</th>\n",
              "      <td>T2</td>\n",
              "      <td>male</td>\n",
              "      <td>0.250221</td>\n",
              "    </tr>\n",
              "    <tr>\n",
              "      <th>36</th>\n",
              "      <td>T3</td>\n",
              "      <td>female</td>\n",
              "      <td>0.267123</td>\n",
              "    </tr>\n",
              "    <tr>\n",
              "      <th>38</th>\n",
              "      <td>T3</td>\n",
              "      <td>female</td>\n",
              "      <td>0.259754</td>\n",
              "    </tr>\n",
              "    <tr>\n",
              "      <th>40</th>\n",
              "      <td>T3</td>\n",
              "      <td>female</td>\n",
              "      <td>0.261795</td>\n",
              "    </tr>\n",
              "    <tr>\n",
              "      <th>42</th>\n",
              "      <td>T3</td>\n",
              "      <td>female</td>\n",
              "      <td>0.264261</td>\n",
              "    </tr>\n",
              "    <tr>\n",
              "      <th>44</th>\n",
              "      <td>T3</td>\n",
              "      <td>female</td>\n",
              "      <td>0.255723</td>\n",
              "    </tr>\n",
              "    <tr>\n",
              "      <th>46</th>\n",
              "      <td>T3</td>\n",
              "      <td>female</td>\n",
              "      <td>0.252648</td>\n",
              "    </tr>\n",
              "    <tr>\n",
              "      <th>37</th>\n",
              "      <td>T3</td>\n",
              "      <td>male</td>\n",
              "      <td>0.285983</td>\n",
              "    </tr>\n",
              "    <tr>\n",
              "      <th>39</th>\n",
              "      <td>T3</td>\n",
              "      <td>male</td>\n",
              "      <td>0.260341</td>\n",
              "    </tr>\n",
              "    <tr>\n",
              "      <th>41</th>\n",
              "      <td>T3</td>\n",
              "      <td>male</td>\n",
              "      <td>0.241380</td>\n",
              "    </tr>\n",
              "    <tr>\n",
              "      <th>43</th>\n",
              "      <td>T3</td>\n",
              "      <td>male</td>\n",
              "      <td>0.243946</td>\n",
              "    </tr>\n",
              "    <tr>\n",
              "      <th>45</th>\n",
              "      <td>T3</td>\n",
              "      <td>male</td>\n",
              "      <td>0.272429</td>\n",
              "    </tr>\n",
              "    <tr>\n",
              "      <th>47</th>\n",
              "      <td>T3</td>\n",
              "      <td>male</td>\n",
              "      <td>0.265012</td>\n",
              "    </tr>\n",
              "    <tr>\n",
              "      <th>0</th>\n",
              "      <td>control</td>\n",
              "      <td>female</td>\n",
              "      <td>0.260455</td>\n",
              "    </tr>\n",
              "    <tr>\n",
              "      <th>2</th>\n",
              "      <td>control</td>\n",
              "      <td>female</td>\n",
              "      <td>0.248017</td>\n",
              "    </tr>\n",
              "    <tr>\n",
              "      <th>4</th>\n",
              "      <td>control</td>\n",
              "      <td>female</td>\n",
              "      <td>0.264684</td>\n",
              "    </tr>\n",
              "    <tr>\n",
              "      <th>6</th>\n",
              "      <td>control</td>\n",
              "      <td>female</td>\n",
              "      <td>0.271622</td>\n",
              "    </tr>\n",
              "    <tr>\n",
              "      <th>8</th>\n",
              "      <td>control</td>\n",
              "      <td>female</td>\n",
              "      <td>0.238769</td>\n",
              "    </tr>\n",
              "    <tr>\n",
              "      <th>10</th>\n",
              "      <td>control</td>\n",
              "      <td>female</td>\n",
              "      <td>0.255966</td>\n",
              "    </tr>\n",
              "    <tr>\n",
              "      <th>1</th>\n",
              "      <td>control</td>\n",
              "      <td>male</td>\n",
              "      <td>0.257669</td>\n",
              "    </tr>\n",
              "    <tr>\n",
              "      <th>3</th>\n",
              "      <td>control</td>\n",
              "      <td>male</td>\n",
              "      <td>0.261995</td>\n",
              "    </tr>\n",
              "    <tr>\n",
              "      <th>5</th>\n",
              "      <td>control</td>\n",
              "      <td>male</td>\n",
              "      <td>0.251688</td>\n",
              "    </tr>\n",
              "    <tr>\n",
              "      <th>7</th>\n",
              "      <td>control</td>\n",
              "      <td>male</td>\n",
              "      <td>0.249028</td>\n",
              "    </tr>\n",
              "    <tr>\n",
              "      <th>9</th>\n",
              "      <td>control</td>\n",
              "      <td>male</td>\n",
              "      <td>0.270397</td>\n",
              "    </tr>\n",
              "    <tr>\n",
              "      <th>11</th>\n",
              "      <td>control</td>\n",
              "      <td>male</td>\n",
              "      <td>0.258740</td>\n",
              "    </tr>\n",
              "  </tbody>\n",
              "</table>\n",
              "</div>"
            ],
            "text/plain": [
              "   treatment     sex  expression_level\n",
              "12        T1  female          0.251625\n",
              "14        T1  female          0.272552\n",
              "16        T1  female          0.276610\n",
              "18        T1  female          0.256852\n",
              "20        T1  female          0.252675\n",
              "22        T1  female          0.280871\n",
              "13        T1    male          0.243940\n",
              "15        T1    male          0.253111\n",
              "17        T1    male          0.268073\n",
              "19        T1    male          0.249141\n",
              "21        T1    male          0.247875\n",
              "23        T1    male          0.261644\n",
              "24        T2  female          0.281502\n",
              "26        T2  female          0.271810\n",
              "28        T2  female          0.266650\n",
              "30        T2  female          0.259154\n",
              "32        T2  female          0.273794\n",
              "34        T2  female          0.276421\n",
              "25        T2    male          0.257326\n",
              "27        T2    male          0.281779\n",
              "29        T2    male          0.280311\n",
              "31        T2    male          0.256365\n",
              "33        T2    male          0.266208\n",
              "35        T2    male          0.250221\n",
              "36        T3  female          0.267123\n",
              "38        T3  female          0.259754\n",
              "40        T3  female          0.261795\n",
              "42        T3  female          0.264261\n",
              "44        T3  female          0.255723\n",
              "46        T3  female          0.252648\n",
              "37        T3    male          0.285983\n",
              "39        T3    male          0.260341\n",
              "41        T3    male          0.241380\n",
              "43        T3    male          0.243946\n",
              "45        T3    male          0.272429\n",
              "47        T3    male          0.265012\n",
              "0    control  female          0.260455\n",
              "2    control  female          0.248017\n",
              "4    control  female          0.264684\n",
              "6    control  female          0.271622\n",
              "8    control  female          0.238769\n",
              "10   control  female          0.255966\n",
              "1    control    male          0.257669\n",
              "3    control    male          0.261995\n",
              "5    control    male          0.251688\n",
              "7    control    male          0.249028\n",
              "9    control    male          0.270397\n",
              "11   control    male          0.258740"
            ]
          },
          "metadata": {
            "tags": []
          },
          "execution_count": 59
        }
      ]
    },
    {
      "cell_type": "markdown",
      "metadata": {
        "id": "vWdamvl2fjrG"
      },
      "source": [
        "For each of the $k_t \\times k_s = 8$ level combinations the dataset contains $r=12$ observations.\n",
        "\n",
        "We can plot this dataset as boxplots for each factor level and for each combination of levels between the factors (remember that treatment \"T2\" has an increased expression level in our dataset):"
      ]
    },
    {
      "cell_type": "code",
      "metadata": {
        "scrolled": false,
        "id": "ZXFodSHqfjrG",
        "outputId": "fd557339-2f37-4c4e-fffb-50fd7299f97d",
        "colab": {
          "base_uri": "https://localhost:8080/",
          "height": 714
        }
      },
      "source": [
        "plt.figure(figsize=(16,12))\n",
        "plt.subplot(2,2,1)\n",
        "ax = sns.boxplot(y=\"expression_level\",data=df,showmeans=True)\n",
        "ax.set_xlabel(\"total\")\n",
        "plt.subplot(2,2,2)\n",
        "ax = sns.boxplot(x=\"treatment\",y=\"expression_level\",hue=\"sex\",data=df,showmeans=True)\n",
        "plt.subplot(2,2,3)\n",
        "ax = sns.boxplot(x=\"treatment\",y=\"expression_level\",data=df,showmeans=True)\n",
        "plt.subplot(2,2,4)\n",
        "ax = sns.boxplot(x=\"sex\",y=\"expression_level\",data=df,showmeans=True)\n",
        "plt.show()"
      ],
      "execution_count": 60,
      "outputs": [
        {
          "output_type": "display_data",
          "data": {
            "image/png": "[encoded data removed]",
            "text/plain": [
              "<Figure size 1152x864 with 4 Axes>"
            ]
          },
          "metadata": {
            "tags": []
          }
        }
      ]
    },
    {
      "cell_type": "markdown",
      "metadata": {
        "id": "OwqZr95XfjrI"
      },
      "source": [
        "We can perform a one-way ANOVA for the factor \"treatment\" again (so not taking the factor \"sex\" into account):"
      ]
    },
    {
      "cell_type": "code",
      "metadata": {
        "id": "x60UldypfjrI",
        "outputId": "a2a595ed-e6ec-4f5a-a57a-07a5345ca2ac",
        "colab": {
          "base_uri": "https://localhost:8080/",
          "height": 110
        }
      },
      "source": [
        "mod = ols('expression_level ~ treatment',\n",
        "                data=df).fit()\n",
        "                \n",
        "aov_table = sm.stats.anova_lm(mod, typ=2)\n",
        "aov_table"
      ],
      "execution_count": 61,
      "outputs": [
        {
          "output_type": "execute_result",
          "data": {
            "text/html": [
              "<div>\n",
              "<style scoped>\n",
              "    .dataframe tbody tr th:only-of-type {\n",
              "        vertical-align: middle;\n",
              "    }\n",
              "\n",
              "    .dataframe tbody tr th {\n",
              "        vertical-align: top;\n",
              "    }\n",
              "\n",
              "    .dataframe thead th {\n",
              "        text-align: right;\n",
              "    }\n",
              "</style>\n",
              "<table border=\"1\" class=\"dataframe\">\n",
              "  <thead>\n",
              "    <tr style=\"text-align: right;\">\n",
              "      <th></th>\n",
              "      <th>sum_sq</th>\n",
              "      <th>df</th>\n",
              "      <th>F</th>\n",
              "      <th>PR(&gt;F)</th>\n",
              "    </tr>\n",
              "  </thead>\n",
              "  <tbody>\n",
              "    <tr>\n",
              "      <th>treatment</th>\n",
              "      <td>0.000830</td>\n",
              "      <td>3.0</td>\n",
              "      <td>2.206083</td>\n",
              "      <td>0.100765</td>\n",
              "    </tr>\n",
              "    <tr>\n",
              "      <th>Residual</th>\n",
              "      <td>0.005519</td>\n",
              "      <td>44.0</td>\n",
              "      <td>NaN</td>\n",
              "      <td>NaN</td>\n",
              "    </tr>\n",
              "  </tbody>\n",
              "</table>\n",
              "</div>"
            ],
            "text/plain": [
              "             sum_sq    df         F    PR(>F)\n",
              "treatment  0.000830   3.0  2.206083  0.100765\n",
              "Residual   0.005519  44.0       NaN       NaN"
            ]
          },
          "metadata": {
            "tags": []
          },
          "execution_count": 61
        }
      ]
    },
    {
      "cell_type": "markdown",
      "metadata": {
        "id": "38Iw2YRjfjrK"
      },
      "source": [
        "At $\\alpha=0.01$ the test correctly rejects the null hypothesis. \n",
        "\n",
        "Also, we can perform a one-way ANOVA for the factor \"sex\" (so not taking the factor \"treatment\" into account):"
      ]
    },
    {
      "cell_type": "code",
      "metadata": {
        "id": "foqXEK3ifjrK",
        "outputId": "a91d92fb-bc5d-43df-f2b6-9fcefa338310",
        "colab": {
          "base_uri": "https://localhost:8080/",
          "height": 110
        }
      },
      "source": [
        "mod = ols('expression_level ~ sex',\n",
        "                data=df).fit()\n",
        "                \n",
        "aov_table = sm.stats.anova_lm(mod, typ=2)\n",
        "aov_table"
      ],
      "execution_count": 62,
      "outputs": [
        {
          "output_type": "execute_result",
          "data": {
            "text/html": [
              "<div>\n",
              "<style scoped>\n",
              "    .dataframe tbody tr th:only-of-type {\n",
              "        vertical-align: middle;\n",
              "    }\n",
              "\n",
              "    .dataframe tbody tr th {\n",
              "        vertical-align: top;\n",
              "    }\n",
              "\n",
              "    .dataframe thead th {\n",
              "        text-align: right;\n",
              "    }\n",
              "</style>\n",
              "<table border=\"1\" class=\"dataframe\">\n",
              "  <thead>\n",
              "    <tr style=\"text-align: right;\">\n",
              "      <th></th>\n",
              "      <th>sum_sq</th>\n",
              "      <th>df</th>\n",
              "      <th>F</th>\n",
              "      <th>PR(&gt;F)</th>\n",
              "    </tr>\n",
              "  </thead>\n",
              "  <tbody>\n",
              "    <tr>\n",
              "      <th>sex</th>\n",
              "      <td>0.000157</td>\n",
              "      <td>1.0</td>\n",
              "      <td>1.16412</td>\n",
              "      <td>0.286238</td>\n",
              "    </tr>\n",
              "    <tr>\n",
              "      <th>Residual</th>\n",
              "      <td>0.006192</td>\n",
              "      <td>46.0</td>\n",
              "      <td>NaN</td>\n",
              "      <td>NaN</td>\n",
              "    </tr>\n",
              "  </tbody>\n",
              "</table>\n",
              "</div>"
            ],
            "text/plain": [
              "            sum_sq    df        F    PR(>F)\n",
              "sex       0.000157   1.0  1.16412  0.286238\n",
              "Residual  0.006192  46.0      NaN       NaN"
            ]
          },
          "metadata": {
            "tags": []
          },
          "execution_count": 62
        }
      ]
    },
    {
      "cell_type": "markdown",
      "metadata": {
        "id": "0w8VHB33fjrM"
      },
      "source": [
        "At $\\alpha=0.01$ the test correctly accepts the null hypothesis as we assigned the levels for factor \"sex\" randomly.\n",
        "\n",
        "In two-way ANOVA both factors are taken into account when computing the F-statistic. Similar to one-way ANOVA the total variance $TSS$ of the gene expresion level is partitioned into the variance $SS_{treatment}$ caused by the factor \"treatment\", the variance $SS_{sex}$ caused by the factor \"sex\" and the variance $SSE$ caused by an unknown source:\n",
        "\n",
        "$$TSS=SS_{treatment}+SS_{sex}+SSE.$$\n",
        "\n",
        "So, what does this mean? \n",
        "\n",
        "First, we perform a two-way ANOVA on our dataset. We can do this in Python as follows:"
      ]
    },
    {
      "cell_type": "code",
      "metadata": {
        "id": "GJxO2aExfjrM",
        "outputId": "ff177f31-f46e-401c-8eba-b5fe8829df38",
        "colab": {
          "base_uri": "https://localhost:8080/",
          "height": 140
        }
      },
      "source": [
        "mod = ols('expression_level ~ treatment + sex',\n",
        "                data=df).fit()\n",
        "                \n",
        "aov_table = sm.stats.anova_lm(mod, typ=2)\n",
        "aov_table"
      ],
      "execution_count": 63,
      "outputs": [
        {
          "output_type": "execute_result",
          "data": {
            "text/html": [
              "<div>\n",
              "<style scoped>\n",
              "    .dataframe tbody tr th:only-of-type {\n",
              "        vertical-align: middle;\n",
              "    }\n",
              "\n",
              "    .dataframe tbody tr th {\n",
              "        vertical-align: top;\n",
              "    }\n",
              "\n",
              "    .dataframe thead th {\n",
              "        text-align: right;\n",
              "    }\n",
              "</style>\n",
              "<table border=\"1\" class=\"dataframe\">\n",
              "  <thead>\n",
              "    <tr style=\"text-align: right;\">\n",
              "      <th></th>\n",
              "      <th>sum_sq</th>\n",
              "      <th>df</th>\n",
              "      <th>F</th>\n",
              "      <th>PR(&gt;F)</th>\n",
              "    </tr>\n",
              "  </thead>\n",
              "  <tbody>\n",
              "    <tr>\n",
              "      <th>treatment</th>\n",
              "      <td>0.000830</td>\n",
              "      <td>3.0</td>\n",
              "      <td>2.218952</td>\n",
              "      <td>0.099638</td>\n",
              "    </tr>\n",
              "    <tr>\n",
              "      <th>sex</th>\n",
              "      <td>0.000157</td>\n",
              "      <td>1.0</td>\n",
              "      <td>1.256663</td>\n",
              "      <td>0.268505</td>\n",
              "    </tr>\n",
              "    <tr>\n",
              "      <th>Residual</th>\n",
              "      <td>0.005362</td>\n",
              "      <td>43.0</td>\n",
              "      <td>NaN</td>\n",
              "      <td>NaN</td>\n",
              "    </tr>\n",
              "  </tbody>\n",
              "</table>\n",
              "</div>"
            ],
            "text/plain": [
              "             sum_sq    df         F    PR(>F)\n",
              "treatment  0.000830   3.0  2.218952  0.099638\n",
              "sex        0.000157   1.0  1.256663  0.268505\n",
              "Residual   0.005362  43.0       NaN       NaN"
            ]
          },
          "metadata": {
            "tags": []
          },
          "execution_count": 63
        }
      ]
    },
    {
      "cell_type": "markdown",
      "metadata": {
        "id": "M0GE-V02fjrO"
      },
      "source": [
        "Notice how a row is added for the factor \"sex\". We have two p-values: one for factor \"treatment\" and one for factor \"sex\". At $\\alpha=0.01$ only factor \"treatment\" shows a difference in mean for one or more of the levels.\n",
        "\n",
        "Now we make a drastic change in our dataset. We increase the gene expression level for male mice consistently with 0.05:"
      ]
    },
    {
      "cell_type": "code",
      "metadata": {
        "scrolled": false,
        "id": "98kt-gm0fjrP"
      },
      "source": [
        "df_male = df[df.sex==\"male\"]\n",
        "df_female = df[df.sex==\"female\"]\n",
        "df_male.loc[:,\"expression_level\"] = df_male.loc[:,\"expression_level\"] + 0.05\n",
        "df2 = pd.concat([df_male,df_female])"
      ],
      "execution_count": 64,
      "outputs": []
    },
    {
      "cell_type": "markdown",
      "metadata": {
        "id": "MGBUMGoafjrR"
      },
      "source": [
        "If we plot our dataset now we get:"
      ]
    },
    {
      "cell_type": "code",
      "metadata": {
        "id": "BexkfGfrfjrS",
        "outputId": "817e0793-bd2b-4830-92b6-63b153568c63",
        "colab": {
          "base_uri": "https://localhost:8080/",
          "height": 497
        }
      },
      "source": [
        "plt.figure(figsize=(16,8))\n",
        "plt.subplot(1,2,1)\n",
        "ax = sns.boxplot(y=\"expression_level\",hue=\"treatment\",data=df2,showmeans=True)\n",
        "ax.set_xlabel(\"total\")\n",
        "plt.subplot(1,2,2)\n",
        "sns.boxplot(x=\"treatment\",y=\"expression_level\",hue=\"sex\",data=df2,showmeans=True)\n",
        "plt.show()"
      ],
      "execution_count": 65,
      "outputs": [
        {
          "output_type": "display_data",
          "data": {
            "image/png": "[encoded data removed]",
            "text/plain": [
              "<Figure size 1152x576 with 2 Axes>"
            ]
          },
          "metadata": {
            "tags": []
          }
        }
      ]
    },
    {
      "cell_type": "markdown",
      "metadata": {
        "id": "IWzHUmQsfjrU"
      },
      "source": [
        "The first thing we notice is that the total variance (the variance for all the observations (not taking the two factors into account)) is much larger than the variance of the eight factor level combinations individually. This large variance is caused by the fact that male mice have much higher geneA expression levels than female mice.\n",
        "\n",
        "When we perform one-way ANOVA for the factor \"treatment\" then the factor \"sex\" (which we don't take into account when doing a one-way ANOVA on \"treatment\") increases the variance in the four levels of factor \"treatment\". We can plot this as follows:"
      ]
    },
    {
      "cell_type": "code",
      "metadata": {
        "id": "kW5qpYQ9fjrU",
        "outputId": "1b9d2cc5-abe3-4057-eae5-d7c05652e437",
        "colab": {
          "base_uri": "https://localhost:8080/",
          "height": 497
        }
      },
      "source": [
        "plt.figure(figsize=(16,8))\n",
        "plt.subplot(1,2,1)\n",
        "ax = sns.boxplot(y=\"expression_level\",hue=\"treatment\",data=df2,showmeans=True)\n",
        "ax.set_xlabel(\"total\")\n",
        "plt.subplot(1,2,2)\n",
        "sns.boxplot(x=\"treatment\",y=\"expression_level\",data=df2,showmeans=True)\n",
        "plt.show()"
      ],
      "execution_count": 66,
      "outputs": [
        {
          "output_type": "display_data",
          "data": {
            "image/png": "[encoded data removed]",
            "text/plain": [
              "<Figure size 1152x576 with 2 Axes>"
            ]
          },
          "metadata": {
            "tags": []
          }
        }
      ]
    },
    {
      "cell_type": "markdown",
      "metadata": {
        "id": "BWsZewezfjrW"
      },
      "source": [
        "When we perform a one-way ANOVA we get:"
      ]
    },
    {
      "cell_type": "code",
      "metadata": {
        "id": "52aD3CJ0fjrW",
        "outputId": "3bc776c5-5b0e-4756-ef2d-f53f1c4f628f",
        "colab": {
          "base_uri": "https://localhost:8080/",
          "height": 110
        }
      },
      "source": [
        "mod = ols('expression_level ~ treatment',\n",
        "                data=df2).fit()\n",
        "                \n",
        "aov_table = sm.stats.anova_lm(mod, typ=2)\n",
        "aov_table"
      ],
      "execution_count": 67,
      "outputs": [
        {
          "output_type": "execute_result",
          "data": {
            "text/html": [
              "<div>\n",
              "<style scoped>\n",
              "    .dataframe tbody tr th:only-of-type {\n",
              "        vertical-align: middle;\n",
              "    }\n",
              "\n",
              "    .dataframe tbody tr th {\n",
              "        vertical-align: top;\n",
              "    }\n",
              "\n",
              "    .dataframe thead th {\n",
              "        text-align: right;\n",
              "    }\n",
              "</style>\n",
              "<table border=\"1\" class=\"dataframe\">\n",
              "  <thead>\n",
              "    <tr style=\"text-align: right;\">\n",
              "      <th></th>\n",
              "      <th>sum_sq</th>\n",
              "      <th>df</th>\n",
              "      <th>F</th>\n",
              "      <th>PR(&gt;F)</th>\n",
              "    </tr>\n",
              "  </thead>\n",
              "  <tbody>\n",
              "    <tr>\n",
              "      <th>treatment</th>\n",
              "      <td>0.000830</td>\n",
              "      <td>3.0</td>\n",
              "      <td>0.390449</td>\n",
              "      <td>0.760446</td>\n",
              "    </tr>\n",
              "    <tr>\n",
              "      <th>Residual</th>\n",
              "      <td>0.031182</td>\n",
              "      <td>44.0</td>\n",
              "      <td>NaN</td>\n",
              "      <td>NaN</td>\n",
              "    </tr>\n",
              "  </tbody>\n",
              "</table>\n",
              "</div>"
            ],
            "text/plain": [
              "             sum_sq    df         F    PR(>F)\n",
              "treatment  0.000830   3.0  0.390449  0.760446\n",
              "Residual   0.031182  44.0       NaN       NaN"
            ]
          },
          "metadata": {
            "tags": []
          },
          "execution_count": 67
        }
      ]
    },
    {
      "cell_type": "markdown",
      "metadata": {
        "id": "gVJKhclWfjrY"
      },
      "source": [
        "So, even though we know that level \"T2\" in factor \"treatment\" does have an effect on the gene expression (increased expression level), it is not detected by the hypothesis test. This is because of the large variance caused by the factor \"sex\". We can see this clearly in the following boxplots showing expression levels for the factor \"sex\":"
      ]
    },
    {
      "cell_type": "code",
      "metadata": {
        "id": "PoxLgs3jfjrY",
        "outputId": "5d7f1caf-dc9a-4da9-88cb-d5e025a6a895",
        "colab": {
          "base_uri": "https://localhost:8080/",
          "height": 497
        }
      },
      "source": [
        "plt.figure(figsize=(16,8))\n",
        "plt.subplot(1,2,1)\n",
        "ax = sns.boxplot(y=\"expression_level\",hue=\"treatment\",data=df2,showmeans=True)\n",
        "ax.set_xlabel(\"total\")\n",
        "plt.subplot(1,2,2)\n",
        "sns.boxplot(x=\"sex\",y=\"expression_level\",data=df2,showmeans=True)\n",
        "plt.show()"
      ],
      "execution_count": 68,
      "outputs": [
        {
          "output_type": "display_data",
          "data": {
            "image/png": "[encoded data removed]",
            "text/plain": [
              "<Figure size 1152x576 with 2 Axes>"
            ]
          },
          "metadata": {
            "tags": []
          }
        }
      ]
    },
    {
      "cell_type": "markdown",
      "metadata": {
        "id": "A9JEqh-kfjra"
      },
      "source": [
        "We can see how most of the total variance can be explained by the factor \"sex\". The one-way ANOVA confirms this:"
      ]
    },
    {
      "cell_type": "code",
      "metadata": {
        "id": "bTG-_xkYfjra",
        "outputId": "9281e72b-0183-411a-ad8f-ffef13f71e3e",
        "colab": {
          "base_uri": "https://localhost:8080/",
          "height": 110
        }
      },
      "source": [
        "mod = ols('expression_level ~ sex',\n",
        "                data=df2).fit()\n",
        "                \n",
        "aov_table = sm.stats.anova_lm(mod, typ=2)\n",
        "aov_table"
      ],
      "execution_count": 69,
      "outputs": [
        {
          "output_type": "execute_result",
          "data": {
            "text/html": [
              "<div>\n",
              "<style scoped>\n",
              "    .dataframe tbody tr th:only-of-type {\n",
              "        vertical-align: middle;\n",
              "    }\n",
              "\n",
              "    .dataframe tbody tr th {\n",
              "        vertical-align: top;\n",
              "    }\n",
              "\n",
              "    .dataframe thead th {\n",
              "        text-align: right;\n",
              "    }\n",
              "</style>\n",
              "<table border=\"1\" class=\"dataframe\">\n",
              "  <thead>\n",
              "    <tr style=\"text-align: right;\">\n",
              "      <th></th>\n",
              "      <th>sum_sq</th>\n",
              "      <th>df</th>\n",
              "      <th>F</th>\n",
              "      <th>PR(&gt;F)</th>\n",
              "    </tr>\n",
              "  </thead>\n",
              "  <tbody>\n",
              "    <tr>\n",
              "      <th>sex</th>\n",
              "      <td>0.025820</td>\n",
              "      <td>1.0</td>\n",
              "      <td>191.807082</td>\n",
              "      <td>5.046573e-18</td>\n",
              "    </tr>\n",
              "    <tr>\n",
              "      <th>Residual</th>\n",
              "      <td>0.006192</td>\n",
              "      <td>46.0</td>\n",
              "      <td>NaN</td>\n",
              "      <td>NaN</td>\n",
              "    </tr>\n",
              "  </tbody>\n",
              "</table>\n",
              "</div>"
            ],
            "text/plain": [
              "            sum_sq    df           F        PR(>F)\n",
              "sex       0.025820   1.0  191.807082  5.046573e-18\n",
              "Residual  0.006192  46.0         NaN           NaN"
            ]
          },
          "metadata": {
            "tags": []
          },
          "execution_count": 69
        }
      ]
    },
    {
      "cell_type": "markdown",
      "metadata": {
        "id": "7EPqN4rafjrc"
      },
      "source": [
        "We do obtain a very small p-value.\n",
        "\n",
        "Let's compute the two-way ANOVA p-values:"
      ]
    },
    {
      "cell_type": "code",
      "metadata": {
        "id": "37Sj21L1fjrc",
        "outputId": "94bee317-68bb-4843-83cf-bd4b0909d39f",
        "colab": {
          "base_uri": "https://localhost:8080/",
          "height": 140
        }
      },
      "source": [
        "mod = ols('expression_level ~ treatment + sex',\n",
        "                data=df2).fit()\n",
        "                \n",
        "aov_table = sm.stats.anova_lm(mod, typ=2)\n",
        "aov_table"
      ],
      "execution_count": 70,
      "outputs": [
        {
          "output_type": "execute_result",
          "data": {
            "text/html": [
              "<div>\n",
              "<style scoped>\n",
              "    .dataframe tbody tr th:only-of-type {\n",
              "        vertical-align: middle;\n",
              "    }\n",
              "\n",
              "    .dataframe tbody tr th {\n",
              "        vertical-align: top;\n",
              "    }\n",
              "\n",
              "    .dataframe thead th {\n",
              "        text-align: right;\n",
              "    }\n",
              "</style>\n",
              "<table border=\"1\" class=\"dataframe\">\n",
              "  <thead>\n",
              "    <tr style=\"text-align: right;\">\n",
              "      <th></th>\n",
              "      <th>sum_sq</th>\n",
              "      <th>df</th>\n",
              "      <th>F</th>\n",
              "      <th>PR(&gt;F)</th>\n",
              "    </tr>\n",
              "  </thead>\n",
              "  <tbody>\n",
              "    <tr>\n",
              "      <th>treatment</th>\n",
              "      <td>0.000830</td>\n",
              "      <td>3.0</td>\n",
              "      <td>2.218952</td>\n",
              "      <td>9.963759e-02</td>\n",
              "    </tr>\n",
              "    <tr>\n",
              "      <th>sex</th>\n",
              "      <td>0.025820</td>\n",
              "      <td>1.0</td>\n",
              "      <td>207.055139</td>\n",
              "      <td>4.824759e-18</td>\n",
              "    </tr>\n",
              "    <tr>\n",
              "      <th>Residual</th>\n",
              "      <td>0.005362</td>\n",
              "      <td>43.0</td>\n",
              "      <td>NaN</td>\n",
              "      <td>NaN</td>\n",
              "    </tr>\n",
              "  </tbody>\n",
              "</table>\n",
              "</div>"
            ],
            "text/plain": [
              "             sum_sq    df           F        PR(>F)\n",
              "treatment  0.000830   3.0    2.218952  9.963759e-02\n",
              "sex        0.025820   1.0  207.055139  4.824759e-18\n",
              "Residual   0.005362  43.0         NaN           NaN"
            ]
          },
          "metadata": {
            "tags": []
          },
          "execution_count": 70
        }
      ]
    },
    {
      "cell_type": "markdown",
      "metadata": {
        "id": "Bh7XN_f0fjre"
      },
      "source": [
        "Now we can see that, as expected, both p-values are below $\\alpha=0.01$. This is because in two-way ANOVA there are two assignable sources of variation (\"treatment\" and \"sex\" in our example) and **this reduces error variation** thereby giving the test more power. The main difference with one-way ANOVA is the computation of the sum of squares of the error SSE which is computed in two-way ANOVA as\n",
        "\n",
        "$$SSE=\\sum_{l=1}^{r}{\\sum_{j=1}^{k_s}{\\sum_{i=1}^{k_t}{(x_{ijl} - \\overline{x}_{ij})^2}}},$$\n",
        "\n",
        "where $x_{ijl}$ is the $l$th observation (of a total of $r$ observations) in level $i$ for factor \"treatment\" and level $j$ for factor \"sex\".\n",
        "\n",
        "Let's again compare the one-way ANOVA on the factor \"treatment\" with the two-way ANOVA on \"treatment\" and \"factor\": "
      ]
    },
    {
      "cell_type": "code",
      "metadata": {
        "id": "sdMaj-y0fjre",
        "outputId": "bd6fd7d3-abd0-4cc3-c960-0a3d1cdc09b8",
        "colab": {
          "base_uri": "https://localhost:8080/",
          "height": 190
        }
      },
      "source": [
        "print(\"one-way ANOVA on treatment\")\n",
        "mod = ols('expression_level ~ treatment',\n",
        "                data=df2).fit()\n",
        "                \n",
        "aov_table = sm.stats.anova_lm(mod, typ=2)\n",
        "print(aov_table)\n",
        "\n",
        "print()\n",
        "print(\"two-way ANOVA on treatment and sex\")\n",
        "mod = ols('expression_level ~ treatment + sex',\n",
        "                data=df2).fit()\n",
        "                \n",
        "aov_table = sm.stats.anova_lm(mod, typ=2)\n",
        "print(aov_table)"
      ],
      "execution_count": 71,
      "outputs": [
        {
          "output_type": "stream",
          "text": [
            "one-way ANOVA on treatment\n",
            "             sum_sq    df         F    PR(>F)\n",
            "treatment  0.000830   3.0  0.390449  0.760446\n",
            "Residual   0.031182  44.0       NaN       NaN\n",
            "\n",
            "two-way ANOVA on treatment and sex\n",
            "             sum_sq    df           F        PR(>F)\n",
            "treatment  0.000830   3.0    2.218952  9.963759e-02\n",
            "sex        0.025820   1.0  207.055139  4.824759e-18\n",
            "Residual   0.005362  43.0         NaN           NaN\n"
          ],
          "name": "stdout"
        }
      ]
    },
    {
      "cell_type": "markdown",
      "metadata": {
        "id": "Guva3tg6fjrg"
      },
      "source": [
        "We can see that $SS_{treatment}$ is the same in both tests. However $SSE$ (the residuals) is much smaller for the two-way ANOVA F-statistic. This is because in the computation of $SSE$ the variation caused by both factors is taken into account. Since $SSE$ is in the denominator of the F-statistic, a smaller $SSE$ means a larger F-statistic which in turn implies a smaller p-value.\n",
        "\n",
        "As in two-way ANOVA there are two factors we have to take into account that there could be an **interaction** between these factors. If this is the case then we should be very careful with the conclusions we make about the individual factors. In two-way ANOVA with interaction the total variance is partitoned as \n",
        "\n",
        "$$TSS=SS_{treatment}+SS_{sex}+SS_{treatment:sex}+SSE,$$\n",
        "\n",
        "where $SS_{treatment:sex}$ is the variance caused by the (potential) interaction of the two factors \"treatment\" and \"sex\". \n",
        "\n",
        "Let's check for an interaction effect in our dataset. We can do this in Python as follows:"
      ]
    },
    {
      "cell_type": "code",
      "metadata": {
        "id": "cPMdQ2OLfjrg",
        "outputId": "fdc41de5-ec3c-4be6-dd4a-8aa577225904",
        "colab": {
          "base_uri": "https://localhost:8080/",
          "height": 188
        }
      },
      "source": [
        "print(\"two-way ANOVA with interaction term:\")\n",
        "mod = ols('expression_level ~ treatment * sex',\n",
        "                data=df2).fit()\n",
        "                \n",
        "aov_table = sm.stats.anova_lm(mod, typ=2)\n",
        "aov_table"
      ],
      "execution_count": 72,
      "outputs": [
        {
          "output_type": "stream",
          "text": [
            "two-way ANOVA with interaction term:\n"
          ],
          "name": "stdout"
        },
        {
          "output_type": "execute_result",
          "data": {
            "text/html": [
              "<div>\n",
              "<style scoped>\n",
              "    .dataframe tbody tr th:only-of-type {\n",
              "        vertical-align: middle;\n",
              "    }\n",
              "\n",
              "    .dataframe tbody tr th {\n",
              "        vertical-align: top;\n",
              "    }\n",
              "\n",
              "    .dataframe thead th {\n",
              "        text-align: right;\n",
              "    }\n",
              "</style>\n",
              "<table border=\"1\" class=\"dataframe\">\n",
              "  <thead>\n",
              "    <tr style=\"text-align: right;\">\n",
              "      <th></th>\n",
              "      <th>sum_sq</th>\n",
              "      <th>df</th>\n",
              "      <th>F</th>\n",
              "      <th>PR(&gt;F)</th>\n",
              "    </tr>\n",
              "  </thead>\n",
              "  <tbody>\n",
              "    <tr>\n",
              "      <th>treatment</th>\n",
              "      <td>0.000830</td>\n",
              "      <td>3.0</td>\n",
              "      <td>2.208316</td>\n",
              "      <td>1.020464e-01</td>\n",
              "    </tr>\n",
              "    <tr>\n",
              "      <th>sex</th>\n",
              "      <td>0.025820</td>\n",
              "      <td>1.0</td>\n",
              "      <td>206.062703</td>\n",
              "      <td>2.264735e-17</td>\n",
              "    </tr>\n",
              "    <tr>\n",
              "      <th>treatment:sex</th>\n",
              "      <td>0.000350</td>\n",
              "      <td>3.0</td>\n",
              "      <td>0.931299</td>\n",
              "      <td>4.345034e-01</td>\n",
              "    </tr>\n",
              "    <tr>\n",
              "      <th>Residual</th>\n",
              "      <td>0.005012</td>\n",
              "      <td>40.0</td>\n",
              "      <td>NaN</td>\n",
              "      <td>NaN</td>\n",
              "    </tr>\n",
              "  </tbody>\n",
              "</table>\n",
              "</div>"
            ],
            "text/plain": [
              "                 sum_sq    df           F        PR(>F)\n",
              "treatment      0.000830   3.0    2.208316  1.020464e-01\n",
              "sex            0.025820   1.0  206.062703  2.264735e-17\n",
              "treatment:sex  0.000350   3.0    0.931299  4.345034e-01\n",
              "Residual       0.005012  40.0         NaN           NaN"
            ]
          },
          "metadata": {
            "tags": []
          },
          "execution_count": 72
        }
      ]
    },
    {
      "cell_type": "markdown",
      "metadata": {
        "id": "yiVHVq9yfjrj"
      },
      "source": [
        "At $\\alpha=0.01$ we conclude that there is no significant interation between the two factors in our dataset.\n",
        "\n",
        "Now consider the following example where there is a clear interaction. The factor \"treatment\" has just $k_t=2$ levels: \"T1\" and \"T2\" and we have again a factor \"sex\" with also $k_s=2$ levels: \"female\" and \"male\". For level \"T1\" the mean female mouse gene expression level is higher than for males. However, for level \"T2\" the mean female mouse gene expression level is lower than for males. Also, there is a difference between the means of levels \"T1\" and \"T2\" as well as there is a difference between the means of levels \"male\" and \"female\": "
      ]
    },
    {
      "cell_type": "code",
      "metadata": {
        "id": "4t5Vp1Ppfjrj",
        "outputId": "6eeab536-fbe1-4139-f1cb-7112b8ee30cc",
        "colab": {
          "base_uri": "https://localhost:8080/",
          "height": 497
        }
      },
      "source": [
        "r = 12\n",
        "group_T1_male  = np.random.normal(size=r,loc=0.26,scale=0.008)\n",
        "group_T1_female  = np.random.normal(size=r,loc=0.28,scale=0.008)\n",
        "group_T2_male  = np.random.normal(size=r,loc=0.30,scale=0.008)\n",
        "group_T2_female  = np.random.normal(size=r,loc=0.26,scale=0.008)\n",
        "df3 = pd.DataFrame()\n",
        "df3[\"treatment\"] = [\"T1\"]*2*r + [\"T2\"]*2*r\n",
        "df3[\"sex\"] = [\"male\"]*r + [\"female\"]*r + [\"male\"]*r + [\"female\"]*r\n",
        "df3[\"expression_level\"] = np.concatenate((group_T1_male,group_T1_female,group_T2_male,group_T2_female))\n",
        "plt.figure(figsize=(16,8))\n",
        "plt.subplot(1,2,1)\n",
        "sns.boxplot(x=\"treatment\",y=\"expression_level\",hue=\"sex\",data=df3)\n",
        "plt.subplot(1,2,2)\n",
        "sns.boxplot(x=\"sex\",y=\"expression_level\",hue=\"treatment\",data=df3)\n",
        "plt.show()"
      ],
      "execution_count": 73,
      "outputs": [
        {
          "output_type": "display_data",
          "data": {
            "image/png": "[encoded data removed]",
            "text/plain": [
              "<Figure size 1152x576 with 2 Axes>"
            ]
          },
          "metadata": {
            "tags": []
          }
        }
      ]
    },
    {
      "cell_type": "markdown",
      "metadata": {
        "id": "1HEvwIrBfjrl"
      },
      "source": [
        "First we compute the one-way ANOVA for each factor:"
      ]
    },
    {
      "cell_type": "code",
      "metadata": {
        "id": "Codg-0dQfjrl",
        "outputId": "aa4650b0-1159-49cc-9f24-1c51cbc38cde",
        "colab": {
          "base_uri": "https://localhost:8080/",
          "height": 173
        }
      },
      "source": [
        "print(\"one-way ANOVA for treatment:\")\n",
        "mod = ols('expression_level ~ treatment',\n",
        "                data=df3).fit()\n",
        "                \n",
        "aov_table = sm.stats.anova_lm(mod, typ=2)\n",
        "print(aov_table)\n",
        "\n",
        "print()\n",
        "print(\"one-way ANOVA for sex:\")\n",
        "mod = ols('expression_level ~ sex',\n",
        "                data=df3).fit()\n",
        "                \n",
        "aov_table = sm.stats.anova_lm(mod, typ=2)\n",
        "print(aov_table)"
      ],
      "execution_count": 74,
      "outputs": [
        {
          "output_type": "stream",
          "text": [
            "one-way ANOVA for treatment:\n",
            "             sum_sq    df         F    PR(>F)\n",
            "treatment  0.001189   1.0  3.261662  0.077463\n",
            "Residual   0.016775  46.0       NaN       NaN\n",
            "\n",
            "one-way ANOVA for sex:\n",
            "            sum_sq    df         F    PR(>F)\n",
            "sex       0.001797   1.0  5.112435  0.028529\n",
            "Residual  0.016167  46.0       NaN       NaN\n"
          ],
          "name": "stdout"
        }
      ]
    },
    {
      "cell_type": "markdown",
      "metadata": {
        "id": "UibNXxoUfjrn"
      },
      "source": [
        "At $\\alpha=0.01$ both null hypothesis are accepted. Now we perform a two-way ANOVA without taking the interaction into account:"
      ]
    },
    {
      "cell_type": "code",
      "metadata": {
        "id": "MByf8kH2fjro",
        "outputId": "22b83268-f044-42bc-e0e3-97420ac79516",
        "colab": {
          "base_uri": "https://localhost:8080/",
          "height": 158
        }
      },
      "source": [
        "print(\"two-way ANOVA without interaction term:\")\n",
        "mod = ols('expression_level ~ treatment + sex',\n",
        "                data=df3).fit()\n",
        "                \n",
        "aov_table = sm.stats.anova_lm(mod, typ=2)\n",
        "aov_table"
      ],
      "execution_count": 75,
      "outputs": [
        {
          "output_type": "stream",
          "text": [
            "two-way ANOVA without interaction term:\n"
          ],
          "name": "stdout"
        },
        {
          "output_type": "execute_result",
          "data": {
            "text/html": [
              "<div>\n",
              "<style scoped>\n",
              "    .dataframe tbody tr th:only-of-type {\n",
              "        vertical-align: middle;\n",
              "    }\n",
              "\n",
              "    .dataframe tbody tr th {\n",
              "        vertical-align: top;\n",
              "    }\n",
              "\n",
              "    .dataframe thead th {\n",
              "        text-align: right;\n",
              "    }\n",
              "</style>\n",
              "<table border=\"1\" class=\"dataframe\">\n",
              "  <thead>\n",
              "    <tr style=\"text-align: right;\">\n",
              "      <th></th>\n",
              "      <th>sum_sq</th>\n",
              "      <th>df</th>\n",
              "      <th>F</th>\n",
              "      <th>PR(&gt;F)</th>\n",
              "    </tr>\n",
              "  </thead>\n",
              "  <tbody>\n",
              "    <tr>\n",
              "      <th>treatment</th>\n",
              "      <td>0.001189</td>\n",
              "      <td>1.0</td>\n",
              "      <td>3.573538</td>\n",
              "      <td>0.065157</td>\n",
              "    </tr>\n",
              "    <tr>\n",
              "      <th>sex</th>\n",
              "      <td>0.001797</td>\n",
              "      <td>1.0</td>\n",
              "      <td>5.398458</td>\n",
              "      <td>0.024731</td>\n",
              "    </tr>\n",
              "    <tr>\n",
              "      <th>Residual</th>\n",
              "      <td>0.014978</td>\n",
              "      <td>45.0</td>\n",
              "      <td>NaN</td>\n",
              "      <td>NaN</td>\n",
              "    </tr>\n",
              "  </tbody>\n",
              "</table>\n",
              "</div>"
            ],
            "text/plain": [
              "             sum_sq    df         F    PR(>F)\n",
              "treatment  0.001189   1.0  3.573538  0.065157\n",
              "sex        0.001797   1.0  5.398458  0.024731\n",
              "Residual   0.014978  45.0       NaN       NaN"
            ]
          },
          "metadata": {
            "tags": []
          },
          "execution_count": 75
        }
      ]
    },
    {
      "cell_type": "markdown",
      "metadata": {
        "id": "Qk80Wx5yfjrp"
      },
      "source": [
        "Again both null hypothesis are accepted. This is incorrect as we know that both \"treatment\" and \"sex\" have a significant effect on the gene expression level. The problem is that both factors even each other out as we will see in the next plots. The two-way ANOVA that takes an interaction between the factors into account gives:"
      ]
    },
    {
      "cell_type": "code",
      "metadata": {
        "id": "K71CN4aAfjrp",
        "outputId": "95b1fb54-75d4-49d8-9761-402198b43835",
        "colab": {
          "base_uri": "https://localhost:8080/",
          "height": 188
        }
      },
      "source": [
        "print(\"two-way ANOVA with interaction term:\")\n",
        "mod = ols('expression_level ~ treatment * sex',\n",
        "                data=df3).fit()\n",
        "                \n",
        "aov_table = sm.stats.anova_lm(mod, typ=2)\n",
        "aov_table"
      ],
      "execution_count": 76,
      "outputs": [
        {
          "output_type": "stream",
          "text": [
            "two-way ANOVA with interaction term:\n"
          ],
          "name": "stdout"
        },
        {
          "output_type": "execute_result",
          "data": {
            "text/html": [
              "<div>\n",
              "<style scoped>\n",
              "    .dataframe tbody tr th:only-of-type {\n",
              "        vertical-align: middle;\n",
              "    }\n",
              "\n",
              "    .dataframe tbody tr th {\n",
              "        vertical-align: top;\n",
              "    }\n",
              "\n",
              "    .dataframe thead th {\n",
              "        text-align: right;\n",
              "    }\n",
              "</style>\n",
              "<table border=\"1\" class=\"dataframe\">\n",
              "  <thead>\n",
              "    <tr style=\"text-align: right;\">\n",
              "      <th></th>\n",
              "      <th>sum_sq</th>\n",
              "      <th>df</th>\n",
              "      <th>F</th>\n",
              "      <th>PR(&gt;F)</th>\n",
              "    </tr>\n",
              "  </thead>\n",
              "  <tbody>\n",
              "    <tr>\n",
              "      <th>treatment</th>\n",
              "      <td>0.001189</td>\n",
              "      <td>1.0</td>\n",
              "      <td>21.445085</td>\n",
              "      <td>3.228798e-05</td>\n",
              "    </tr>\n",
              "    <tr>\n",
              "      <th>sex</th>\n",
              "      <td>0.001797</td>\n",
              "      <td>1.0</td>\n",
              "      <td>32.396576</td>\n",
              "      <td>9.557451e-07</td>\n",
              "    </tr>\n",
              "    <tr>\n",
              "      <th>treatment:sex</th>\n",
              "      <td>0.012538</td>\n",
              "      <td>1.0</td>\n",
              "      <td>226.048571</td>\n",
              "      <td>6.008752e-19</td>\n",
              "    </tr>\n",
              "    <tr>\n",
              "      <th>Residual</th>\n",
              "      <td>0.002440</td>\n",
              "      <td>44.0</td>\n",
              "      <td>NaN</td>\n",
              "      <td>NaN</td>\n",
              "    </tr>\n",
              "  </tbody>\n",
              "</table>\n",
              "</div>"
            ],
            "text/plain": [
              "                 sum_sq    df           F        PR(>F)\n",
              "treatment      0.001189   1.0   21.445085  3.228798e-05\n",
              "sex            0.001797   1.0   32.396576  9.557451e-07\n",
              "treatment:sex  0.012538   1.0  226.048571  6.008752e-19\n",
              "Residual       0.002440  44.0         NaN           NaN"
            ]
          },
          "metadata": {
            "tags": []
          },
          "execution_count": 76
        }
      ]
    },
    {
      "cell_type": "markdown",
      "metadata": {
        "id": "rjFU3i6efjrs"
      },
      "source": [
        "At $\\alpha=0.01$ we see that this time both null hypothesis are correctly rejected. We also see a third p-value (for the interaction \"treatment:sex\" that shows that there is indeed a significant interaction between the factors.\n",
        "\n",
        "To better illustrate the effect of the interaction we can plot the distribution of expression levels between the levels for each factor:"
      ]
    },
    {
      "cell_type": "code",
      "metadata": {
        "id": "dY7KNTXbfjrt",
        "outputId": "7ba5e465-f0ba-498b-f04d-e269f7b7375d",
        "colab": {
          "base_uri": "https://localhost:8080/",
          "height": 497
        }
      },
      "source": [
        "plt.figure(figsize=(16,8))\n",
        "plt.subplot(1,2,1)\n",
        "sns.boxplot(x=\"treatment\",y=\"expression_level\",data=df3)\n",
        "plt.subplot(1,2,2)\n",
        "sns.boxplot(x=\"sex\",y=\"expression_level\",data=df3)\n",
        "plt.show()"
      ],
      "execution_count": 77,
      "outputs": [
        {
          "output_type": "display_data",
          "data": {
            "image/png": "[encoded data removed]",
            "text/plain": [
              "<Figure size 1152x576 with 2 Axes>"
            ]
          },
          "metadata": {
            "tags": []
          }
        }
      ]
    },
    {
      "cell_type": "markdown",
      "metadata": {
        "id": "uNrsnJEwlGai"
      },
      "source": [
        "Notice how because of the interaction we observe no clear difference between the means of the levels in a factor. \n"
      ]
    },
    {
      "cell_type": "markdown",
      "metadata": {
        "id": "cMe63_oQlI48"
      },
      "source": [
        "## Power analysis\n"
      ]
    },
    {
      "cell_type": "markdown",
      "metadata": {
        "id": "qIqRdDGhfjrv"
      },
      "source": [
        "We have seen that the power of a hypothesis test is defined as the probability of correctly rejecting the null hypothesis in case the alternative hypothesis is true. In power analysis the power is defined as $1-\\beta$ where $\\beta$ is the probability of accepting the null hypothesis even though the alternative hypothesis is true.\n",
        "\n",
        "When preparing a statistical analysis it is good practice to estimate the sample size required to find the effect of interest if it exists. The \"effect of interest\" is known as the **effect size**. \n",
        "\n",
        "Suppose we want to test if there is a difference between the mean expression level of two genes (geneA and geneB). We want to design a statistical experiment that is able to detect (if it exists) a minimum 0.02 in expression difference between the expression level of both genes. This \"minimum 0.02 difference\" is the **minimum** effect size we want to be able to detect (again, if it exists). \n",
        "\n",
        "Let's illustrate this. We know that the power of a two sample t-test (and all other hypothesis tests) depends on the variance of the (normal) population from which the sample(s) are drawn. We fix the sample size $n$, the effect size (noted as variable  `diff` in the code below) and the significance level $\\alpha$. Next we vary the variance (or standard deviation $\\sigma$) of the population from which the samples are drawn and estimate the power of the two sample t-test by repeating it $m=1000$ times:    "
      ]
    },
    {
      "cell_type": "code",
      "metadata": {
        "id": "M2kI9Ri0fjrv",
        "outputId": "ed17f28e-b09e-4050-9fce-225753a21d32",
        "colab": {
          "base_uri": "https://localhost:8080/",
          "height": 0
        }
      },
      "source": [
        "m = 1000\n",
        "alpha = 0.01\n",
        "n = 9\n",
        "diff = 0.02\n",
        "for sigma in [0.01,0.015,0.02,0.025,0.03,0.04,0.05]:\n",
        "    power = 0.\n",
        "    for i in range(m):\n",
        "        geneA = np.random.normal(size=n,loc=0.26,scale=sigma)\n",
        "        geneB = np.random.normal(size=n,loc=0.26+diff,scale=sigma)\n",
        "        pvalue = stats.ttest_ind(geneA,geneB).pvalue\n",
        "        if pvalue < alpha:\n",
        "            power += 1.\n",
        "    print(\"sample size: %i / effect size: %.2f / population std: %.3f / power: %.2f\"%(n,diff,sigma,power/m))"
      ],
      "execution_count": 78,
      "outputs": [
        {
          "output_type": "stream",
          "text": [
            "sample size: 9 / effect size: 0.02 / population std: 0.010 / power: 0.88\n",
            "sample size: 9 / effect size: 0.02 / population std: 0.015 / power: 0.52\n",
            "sample size: 9 / effect size: 0.02 / population std: 0.020 / power: 0.26\n",
            "sample size: 9 / effect size: 0.02 / population std: 0.025 / power: 0.13\n",
            "sample size: 9 / effect size: 0.02 / population std: 0.030 / power: 0.10\n",
            "sample size: 9 / effect size: 0.02 / population std: 0.040 / power: 0.06\n",
            "sample size: 9 / effect size: 0.02 / population std: 0.050 / power: 0.03\n"
          ],
          "name": "stdout"
        }
      ]
    },
    {
      "cell_type": "markdown",
      "metadata": {
        "id": "ryebem01fjry"
      },
      "source": [
        "We see that the power of the two sample t-test deceases as the variance of the population increases. We also know that the power of a two sample t-test (and all other hypothesis tests) depends on the sample size $n$. We fix the population variance, the effect size and the significance level $\\alpha$. Next we vary the samples size $n$ and compute the power of the two sample t-test by repeating it 1000 times:   "
      ]
    },
    {
      "cell_type": "code",
      "metadata": {
        "id": "YjUM_0S-fjry",
        "outputId": "fbeb1836-3a87-44ed-98cd-d521f9baa4d7",
        "colab": {
          "base_uri": "https://localhost:8080/",
          "height": 0
        }
      },
      "source": [
        "sigma = 0.01\n",
        "diff = 0.02\n",
        "for n in range(2,15):\n",
        "    power = 0.\n",
        "    for i in range(m):\n",
        "        geneA = np.random.normal(size=n,loc=0.26,scale=sigma)\n",
        "        geneB = np.random.normal(size=n,loc=0.26+diff,scale=sigma)\n",
        "        pvalue = stats.ttest_ind(geneA,geneB).pvalue\n",
        "        if pvalue < alpha:\n",
        "            power += 1.\n",
        "    print(\"sample size: %i / effect size: %.2f / population std: %.3f / power: %.2f\"%(n,diff,sigma,power/m))"
      ],
      "execution_count": 79,
      "outputs": [
        {
          "output_type": "stream",
          "text": [
            "sample size: 2 / effect size: 0.02 / population std: 0.010 / power: 0.05\n",
            "sample size: 3 / effect size: 0.02 / population std: 0.010 / power: 0.16\n",
            "sample size: 4 / effect size: 0.02 / population std: 0.010 / power: 0.33\n",
            "sample size: 5 / effect size: 0.02 / population std: 0.010 / power: 0.47\n",
            "sample size: 6 / effect size: 0.02 / population std: 0.010 / power: 0.65\n",
            "sample size: 7 / effect size: 0.02 / population std: 0.010 / power: 0.73\n",
            "sample size: 8 / effect size: 0.02 / population std: 0.010 / power: 0.84\n",
            "sample size: 9 / effect size: 0.02 / population std: 0.010 / power: 0.91\n",
            "sample size: 10 / effect size: 0.02 / population std: 0.010 / power: 0.93\n",
            "sample size: 11 / effect size: 0.02 / population std: 0.010 / power: 0.96\n",
            "sample size: 12 / effect size: 0.02 / population std: 0.010 / power: 0.98\n",
            "sample size: 13 / effect size: 0.02 / population std: 0.010 / power: 0.99\n",
            "sample size: 14 / effect size: 0.02 / population std: 0.010 / power: 0.99\n"
          ],
          "name": "stdout"
        }
      ]
    },
    {
      "cell_type": "markdown",
      "metadata": {
        "id": "kvehi1S5fjr0"
      },
      "source": [
        "We see that the power of the two sample t-test increases as the sample size increases. Finally the power of a two sample t-test (and all other hypothesis tests) also depends on the minimum effect size we hope to detect if it exists. We fix the population variance, the sample size and the significance level $\\alpha$. Next we vary the effect size (variable `diff` in the code below) and compute the power of the two sample t-test by repeating it 1000 times: "
      ]
    },
    {
      "cell_type": "code",
      "metadata": {
        "id": "RXzuZXUTfjr0",
        "outputId": "cfd5ebc7-e85b-48c6-eaac-89155e3fca52",
        "colab": {
          "base_uri": "https://localhost:8080/",
          "height": 0
        }
      },
      "source": [
        "sigma = 0.01\n",
        "n= 9\n",
        "for diff in [0.001,0.005,0.01,0.02,0.03,0.04]:\n",
        "    power = 0.\n",
        "    for i in range(m):\n",
        "        geneA = np.random.normal(size=n,loc=0.26,scale=sigma)\n",
        "        geneB = np.random.normal(size=n,loc=0.26+diff,scale=sigma)\n",
        "        pvalue = stats.ttest_ind(geneA,geneB).pvalue\n",
        "        if pvalue < alpha:\n",
        "            power += 1.\n",
        "    print(\"sample size: %i / effect size: %.2f / population std: %.3f / power: %.2f\"%(n,diff,sigma,power/m))"
      ],
      "execution_count": 80,
      "outputs": [
        {
          "output_type": "stream",
          "text": [
            "sample size: 9 / effect size: 0.00 / population std: 0.010 / power: 0.01\n",
            "sample size: 9 / effect size: 0.01 / population std: 0.010 / power: 0.06\n",
            "sample size: 9 / effect size: 0.01 / population std: 0.010 / power: 0.24\n",
            "sample size: 9 / effect size: 0.02 / population std: 0.010 / power: 0.89\n",
            "sample size: 9 / effect size: 0.03 / population std: 0.010 / power: 1.00\n",
            "sample size: 9 / effect size: 0.04 / population std: 0.010 / power: 1.00\n"
          ],
          "name": "stdout"
        }
      ]
    },
    {
      "cell_type": "markdown",
      "metadata": {
        "id": "ZY0WdwvNfjr2"
      },
      "source": [
        "We see that the power of the two sample t-test increases as the effect size increases, which makes sense.\n",
        "\n",
        "So **the power of a hypothesis test depends on these four numbers**: \n",
        "\n",
        "- the effect size\n",
        "- the population variance\n",
        "- the sample size\n",
        "- the significance level\n",
        "\n",
        "This means that when we fix the expected power of a test, the minimum effect size, the population variance and the significance level we can compute the minimum sample size $n$ required to achieve this expected power.\n",
        "\n",
        "In Python we can compute the minimum sample size required for a certain minimum statistical power as follows:"
      ]
    },
    {
      "cell_type": "code",
      "metadata": {
        "id": "0kKjAE5Zfjr2",
        "outputId": "9bbd68a5-6c39-4d8e-8596-963e45ba40d8",
        "colab": {
          "base_uri": "https://localhost:8080/",
          "height": 0
        }
      },
      "source": [
        "import statsmodels.stats.power as smp\n",
        "sigma = 0.01\n",
        "diff = 0.02\n",
        "for power in [0.99,0.95,0.9,0.8]:    \n",
        "    print(\"Minimum sample size required for power = %f: %f\"%\n",
        "          (power,smp.TTestIndPower().solve_power(diff/sigma, power=power, alpha=alpha, alternative='two-sided')))"
      ],
      "execution_count": 81,
      "outputs": [
        {
          "output_type": "stream",
          "text": [
            "Minimum sample size required for power = 0.990000: 13.805334\n",
            "Minimum sample size required for power = 0.950000: 10.710971\n",
            "Minimum sample size required for power = 0.900000: 9.251530\n",
            "Minimum sample size required for power = 0.800000: 7.660540\n"
          ],
          "name": "stdout"
        }
      ]
    },
    {
      "cell_type": "markdown",
      "metadata": {
        "id": "Tl5nQTCYfjr4"
      },
      "source": [
        "In this code the population variance is taken into account by dividing the effect size (variable `diff`) by the expected standard deviation of the population(s) from which the samples are drawn.\n",
        "\n",
        "According to the power analysis, if we expect a minimum power of 95% then we need to draw at least $n=10.710971=11$ observations in each sample. We can verify this with the code we used above for varying the sample size and computing the power:"
      ]
    },
    {
      "cell_type": "code",
      "metadata": {
        "id": "PhhUn38Nfjr7",
        "outputId": "1d4728d8-321b-44e7-8f85-20f992e6b884",
        "colab": {
          "base_uri": "https://localhost:8080/",
          "height": 0
        }
      },
      "source": [
        "n = 11\n",
        "power = 0.\n",
        "for i in range(m):\n",
        "    geneA = np.random.normal(size=n,loc=0.26,scale=0.01)\n",
        "    geneB = np.random.normal(size=n,loc=0.26+diff,scale=0.01)\n",
        "    pvalue = stats.ttest_ind(geneA,geneB).pvalue\n",
        "    if pvalue < alpha:\n",
        "        power += 1.\n",
        "print(\"Power for sample size %i, mean difference %f and population sigma %f: %f\"%(n,diff,sigma,power/(float(m))))"
      ],
      "execution_count": 82,
      "outputs": [
        {
          "output_type": "stream",
          "text": [
            "Power for sample size 11, mean difference 0.020000 and population sigma 0.010000: 0.956000\n"
          ],
          "name": "stdout"
        }
      ]
    },
    {
      "cell_type": "markdown",
      "metadata": {
        "id": "0wY18U3Qfjr9"
      },
      "source": [
        "We can see that our estimations are indeed correct. \n",
        "\n",
        "One problem with a power analysis is that the variance of the population needs to be known, while in most cases this information is not available. Typical practice is to find an estimate for the variance in the scientific literature or perform a \"pilot\" experiment with small sample size to estimate the population variance from this small sample.\n",
        "\n",
        "In the design of a statistical study it is important to consider the trade-off between the power of the hypothesis test and the sample size of the study. We can see this by computing the power of our two sample t-test for different sample sizes:"
      ]
    },
    {
      "cell_type": "code",
      "metadata": {
        "id": "3IRK1lXhfjr9",
        "outputId": "8d150c46-d60b-4419-b2b9-e4dbd0a9537e",
        "colab": {
          "base_uri": "https://localhost:8080/",
          "height": 0
        }
      },
      "source": [
        "df = []\n",
        "for n in range(2,24):\n",
        "    power = smp.TTestIndPower().solve_power(diff/sigma, nobs1=n, alpha=alpha, alternative='two-sided')\n",
        "    print(\"Power for sample size %i: %f\" % (n,power))\n",
        "    df.append([n,power])\n",
        "df = pd.DataFrame(df,columns=[\"sample size\",\"power\"])"
      ],
      "execution_count": 83,
      "outputs": [
        {
          "output_type": "stream",
          "text": [
            "Power for sample size 2: 0.048628\n",
            "Power for sample size 3: 0.156856\n",
            "Power for sample size 4: 0.313033\n",
            "Power for sample size 5: 0.476935\n",
            "Power for sample size 6: 0.622611\n",
            "Power for sample size 7: 0.739367\n",
            "Power for sample size 8: 0.826419\n",
            "Power for sample size 9: 0.887894\n",
            "Power for sample size 10: 0.929485\n",
            "Power for sample size 11: 0.956656\n",
            "Power for sample size 12: 0.973892\n",
            "Power for sample size 13: 0.984556\n",
            "Power for sample size 14: 0.991011\n",
            "Power for sample size 15: 0.994844\n",
            "Power for sample size 16: 0.997082\n",
            "Power for sample size 17: 0.998368\n",
            "Power for sample size 18: 0.999098\n",
            "Power for sample size 19: 0.999506\n",
            "Power for sample size 20: 0.999732\n",
            "Power for sample size 21: 0.999856\n",
            "Power for sample size 22: 0.999923\n",
            "Power for sample size 23: 0.999959\n"
          ],
          "name": "stdout"
        }
      ]
    },
    {
      "cell_type": "markdown",
      "metadata": {
        "id": "sVHRr9Ijfjr_"
      },
      "source": [
        "If we plot the power against the sample size we get:"
      ]
    },
    {
      "cell_type": "code",
      "metadata": {
        "id": "G4WDvt49fjsA",
        "outputId": "a42ec2f2-123a-4fb7-e14b-f27eab3c0b02",
        "colab": {
          "base_uri": "https://localhost:8080/",
          "height": 0
        }
      },
      "source": [
        "sns.lmplot(x=\"sample size\",y=\"power\",data=df,fit_reg=False)"
      ],
      "execution_count": 84,
      "outputs": [
        {
          "output_type": "execute_result",
          "data": {
            "text/plain": [
              "<seaborn.axisgrid.FacetGrid at 0x7f1a5145e400>"
            ]
          },
          "metadata": {
            "tags": []
          },
          "execution_count": 84
        },
        {
          "output_type": "display_data",
          "data": {
            "image/png": "[encoded data removed]",
            "text/plain": [
              "<Figure size 360x360 with 1 Axes>"
            ]
          },
          "metadata": {
            "tags": []
          }
        }
      ]
    },
    {
      "cell_type": "markdown",
      "metadata": {
        "id": "msdap2sbfjsE"
      },
      "source": [
        "\n",
        "\n",
        "\n",
        "\n",
        "\n",
        "\n",
        "\n",
        "\n",
        "This plot shows how for small sample sizes adding one more sample significantly increases the power of our test. From the moment we have 10 observations in each level we see that the added power decreases exponentially."
      ]
    },
    {
      "cell_type": "code",
      "metadata": {
        "id": "p8i4iZdImJMY"
      },
      "source": [
        ""
      ],
      "execution_count": 84,
      "outputs": []
    }
  ]
}