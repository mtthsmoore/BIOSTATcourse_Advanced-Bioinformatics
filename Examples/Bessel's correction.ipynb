{
 "cells": [
  {
   "cell_type": "code",
   "execution_count": null,
   "metadata": {},
   "outputs": [],
   "source": [
    "%matplotlib inline\n",
    "import matplotlib.pyplot as plt\n",
    "import numpy as np\n",
    "import pandas as pd\n",
    "import seaborn as sns"
   ]
  },
  {
   "cell_type": "code",
   "execution_count": null,
   "metadata": {},
   "outputs": [],
   "source": [
    "mean = 0.5\n",
    "variance = 0.01\n",
    "n = 10\n",
    "\n",
    "sample = np.random.normal(size=n,loc=mean,scale=np.sqrt(variance))"
   ]
  },
  {
   "cell_type": "code",
   "execution_count": null,
   "metadata": {},
   "outputs": [],
   "source": [
    "print(sample)"
   ]
  },
  {
   "cell_type": "code",
   "execution_count": null,
   "metadata": {},
   "outputs": [],
   "source": [
    "np.var(sample)"
   ]
  },
  {
   "cell_type": "code",
   "execution_count": null,
   "metadata": {},
   "outputs": [],
   "source": [
    "std_parameter = []\n",
    "std_statistic = []\n",
    "for i in range(100):\n",
    "    sample = np.random.normal(size=n,loc=mean,scale=np.sqrt(variance))\n",
    "    m = np.mean(sample)\n",
    "    tmp_std = np.sum((sample - m)**2)\n",
    "    std_parameter.append(tmp_std / n)\n",
    "    std_statistic.append(tmp_std / (n-1))"
   ]
  },
  {
   "cell_type": "code",
   "execution_count": null,
   "metadata": {},
   "outputs": [],
   "source": [
    "sns.distplot(std_parameter,hist=False,color=\"r\")\n",
    "sns.distplot(std_statistic,hist=False,color=\"b\")"
   ]
  },
  {
   "cell_type": "code",
   "execution_count": null,
   "metadata": {},
   "outputs": [],
   "source": [
    "print(\"Using n:   %f\"%np.mean(std_parameter))\n",
    "print(\"Using n-1: %f\"%np.mean(std_statistic))"
   ]
  },
  {
   "cell_type": "code",
   "execution_count": null,
   "metadata": {},
   "outputs": [],
   "source": [
    "var_n = []\n",
    "var_n_1 = []\n",
    "\n",
    "for n in range(3,100,1):\n",
    "    as_parameter = []\n",
    "    as_statistic = []\n",
    "    for i in range(100):\n",
    "        sample = np.random.normal(size=n,loc=mean,scale=np.sqrt(variance))\n",
    "        m = np.mean(sample)\n",
    "        tmp_var = np.sum((sample - m)**2)\n",
    "        as_parameter.append(tmp_var / n)\n",
    "        as_statistic.append(tmp_var / (n-1))\n",
    "    var_n.append(np.mean(as_parameter))\n",
    "    var_n_1.append(np.mean(as_statistic))      \n",
    "    \n",
    "df = pd.DataFrame()\n",
    "df[\"n\"] = var_n\n",
    "df[\"n_1\"] = var_n_1\n",
    "plt.figure(figsize=(20,20))\n",
    "df.plot()\n",
    "plt.show()"
   ]
  }
 ],
 "metadata": {
  "kernelspec": {
   "display_name": "Python 3",
   "language": "python",
   "name": "python3"
  },
  "language_info": {
   "codemirror_mode": {
    "name": "ipython",
    "version": 3
   },
   "file_extension": ".py",
   "mimetype": "text/x-python",
   "name": "python",
   "nbconvert_exporter": "python",
   "pygments_lexer": "ipython3",
   "version": "3.8.3"
  }
 },
 "nbformat": 4,
 "nbformat_minor": 4
}
