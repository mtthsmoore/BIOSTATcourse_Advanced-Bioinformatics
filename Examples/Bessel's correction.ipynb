{
  "nbformat": 4,
  "nbformat_minor": 0,
  "metadata": {
    "kernelspec": {
      "display_name": "Python 3",
      "language": "python",
      "name": "python3"
    },
    "language_info": {
      "codemirror_mode": {
        "name": "ipython",
        "version": 3
      },
      "file_extension": ".py",
      "mimetype": "text/x-python",
      "name": "python",
      "nbconvert_exporter": "python",
      "pygments_lexer": "ipython3",
      "version": "3.8.3"
    },
    "colab": {
      "name": "Bessel's correction.ipynb",
      "provenance": [],
      "include_colab_link": true
    }
  },
  "cells": [
    {
      "cell_type": "markdown",
      "metadata": {
        "id": "view-in-github",
        "colab_type": "text"
      },
      "source": [
        "<a href=\"https://colab.research.google.com/github/sdgroeve/D012513A-Specialised-Bio-informatics/blob/master/Examples/Bessel's%20correction.ipynb\" target=\"_parent\"><img src=\"https://colab.research.google.com/assets/colab-badge.svg\" alt=\"Open In Colab\"/></a>"
      ]
    },
    {
      "cell_type": "code",
      "metadata": {
        "id": "ioorrk_bcCz-"
      },
      "source": [
        "%matplotlib inline\n",
        "import matplotlib.pyplot as plt\n",
        "import numpy as np\n",
        "import pandas as pd\n",
        "import seaborn as sns"
      ],
      "execution_count": null,
      "outputs": []
    },
    {
      "cell_type": "code",
      "metadata": {
        "id": "CLzYPHkEcC0C"
      },
      "source": [
        "mean = 0.5\n",
        "variance = 0.01\n",
        "n = 10\n",
        "\n",
        "sample = np.random.normal(size=n,loc=mean,scale=np.sqrt(variance))"
      ],
      "execution_count": null,
      "outputs": []
    },
    {
      "cell_type": "code",
      "metadata": {
        "id": "ZXHh4jZ9cC0C"
      },
      "source": [
        "print(sample)"
      ],
      "execution_count": null,
      "outputs": []
    },
    {
      "cell_type": "code",
      "metadata": {
        "id": "K3VbdUnwcC0D"
      },
      "source": [
        "np.var(sample)"
      ],
      "execution_count": null,
      "outputs": []
    },
    {
      "cell_type": "code",
      "metadata": {
        "id": "vGfgf-SscC0E"
      },
      "source": [
        "std_parameter = []\n",
        "std_statistic = []\n",
        "for i in range(100):\n",
        "    sample = np.random.normal(size=n,loc=mean,scale=np.sqrt(variance))\n",
        "    m = np.mean(sample)\n",
        "    tmp_std = np.sum((sample - m)**2)\n",
        "    std_parameter.append(tmp_std / n)\n",
        "    std_statistic.append(tmp_std / (n-1))"
      ],
      "execution_count": null,
      "outputs": []
    },
    {
      "cell_type": "code",
      "metadata": {
        "id": "rY8NLJc6cC0F"
      },
      "source": [
        "sns.distplot(std_parameter,hist=False,color=\"r\")\n",
        "sns.distplot(std_statistic,hist=False,color=\"b\")"
      ],
      "execution_count": null,
      "outputs": []
    },
    {
      "cell_type": "code",
      "metadata": {
        "id": "2rdD1kvjcC0G"
      },
      "source": [
        "print(\"Using n:   %f\"%np.mean(std_parameter))\n",
        "print(\"Using n-1: %f\"%np.mean(std_statistic))"
      ],
      "execution_count": null,
      "outputs": []
    },
    {
      "cell_type": "code",
      "metadata": {
        "id": "WJrWCfmHcC0H"
      },
      "source": [
        "var_n = []\n",
        "var_n_1 = []\n",
        "\n",
        "for n in range(3,100,1):\n",
        "    as_parameter = []\n",
        "    as_statistic = []\n",
        "    for i in range(100):\n",
        "        sample = np.random.normal(size=n,loc=mean,scale=np.sqrt(variance))\n",
        "        m = np.mean(sample)\n",
        "        tmp_var = np.sum((sample - m)**2)\n",
        "        as_parameter.append(tmp_var / n)\n",
        "        as_statistic.append(tmp_var / (n-1))\n",
        "    var_n.append(np.mean(as_parameter))\n",
        "    var_n_1.append(np.mean(as_statistic))      \n",
        "    \n",
        "df = pd.DataFrame()\n",
        "df[\"n\"] = var_n\n",
        "df[\"n_1\"] = var_n_1\n",
        "plt.figure(figsize=(20,20))\n",
        "df.plot()\n",
        "plt.show()"
      ],
      "execution_count": null,
      "outputs": []
    }
  ]
}